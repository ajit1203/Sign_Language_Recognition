{
 "cells": [
  {
   "cell_type": "code",
   "execution_count": 3,
   "metadata": {},
   "outputs": [
    {
     "name": "stdout",
     "output_type": "stream",
     "text": [
      "Requirement already satisfied: scikit-learn in /Library/Frameworks/Python.framework/Versions/3.8/lib/python3.8/site-packages (1.3.2)\n",
      "Requirement already satisfied: joblib>=1.1.1 in /Library/Frameworks/Python.framework/Versions/3.8/lib/python3.8/site-packages (from scikit-learn) (1.4.0)\n",
      "Requirement already satisfied: scipy>=1.5.0 in /Library/Frameworks/Python.framework/Versions/3.8/lib/python3.8/site-packages (from scikit-learn) (1.10.1)\n",
      "Requirement already satisfied: threadpoolctl>=2.0.0 in /Library/Frameworks/Python.framework/Versions/3.8/lib/python3.8/site-packages (from scikit-learn) (3.4.0)\n",
      "Requirement already satisfied: numpy<2.0,>=1.17.3 in /Library/Frameworks/Python.framework/Versions/3.8/lib/python3.8/site-packages (from scikit-learn) (1.24.3)\n",
      "\u001b[33mWARNING: You are using pip version 21.1.1; however, version 24.0 is available.\n",
      "You should consider upgrading via the '/usr/local/bin/python3 -m pip install --upgrade pip' command.\u001b[0m\n",
      "Note: you may need to restart the kernel to use updated packages.\n"
     ]
    }
   ],
   "source": [
    "pip install scikit-learn"
   ]
  },
  {
   "cell_type": "code",
   "execution_count": 4,
   "metadata": {
    "id": "igMyGnjE9hEp"
   },
   "outputs": [],
   "source": [
    "import csv\n",
    "\n",
    "import numpy as np\n",
    "import tensorflow as tf\n",
    "from sklearn.model_selection import train_test_split\n",
    "\n",
    "RANDOM_SEED = 42"
   ]
  },
  {
   "cell_type": "markdown",
   "metadata": {
    "id": "t2HDvhIu9hEr"
   },
   "source": [
    "# Specify each path"
   ]
  },
  {
   "cell_type": "code",
   "execution_count": 5,
   "metadata": {
    "id": "9NvZP2Zn9hEy"
   },
   "outputs": [],
   "source": [
    "dataset = 'model/keypoint_classifier/keypoint.csv'\n",
    "model_save_path = 'model/keypoint_classifier/keypoint_classifier.hdf5'\n",
    "tflite_save_path = 'model/keypoint_classifier/keypoint_classifier.tflite'"
   ]
  },
  {
   "cell_type": "markdown",
   "metadata": {
    "id": "s5oMH7x19hEz"
   },
   "source": [
    "# Set number of classes"
   ]
  },
  {
   "cell_type": "code",
   "execution_count": 6,
   "metadata": {
    "id": "du4kodXL9hEz"
   },
   "outputs": [],
   "source": [
    "NUM_CLASSES = 33 # Number of the classes used in the training (a-z,I Love You,Thank You,Help,Play,Stop,Hello,Good Morning)"
   ]
  },
  {
   "cell_type": "markdown",
   "metadata": {
    "id": "XjnL0uso9hEz"
   },
   "source": [
    "# Dataset reading"
   ]
  },
  {
   "cell_type": "code",
   "execution_count": 7,
   "metadata": {
    "id": "QT5ZqtEz9hE0"
   },
   "outputs": [],
   "source": [
    "X_dataset = np.loadtxt(dataset, delimiter=',', dtype='float32', usecols=list(range(1, (21 * 2) + 1)))"
   ]
  },
  {
   "cell_type": "code",
   "execution_count": 8,
   "metadata": {
    "id": "QmoKFsp49hE0"
   },
   "outputs": [],
   "source": [
    "y_dataset = np.loadtxt(dataset, delimiter=',', dtype='int32', usecols=(0))"
   ]
  },
  {
   "cell_type": "code",
   "execution_count": 9,
   "metadata": {
    "id": "xQU7JTZ_9hE0"
   },
   "outputs": [],
   "source": [
    "X_train, X_test, y_train, y_test = train_test_split(X_dataset, y_dataset, train_size=0.75, random_state=RANDOM_SEED)"
   ]
  },
  {
   "cell_type": "markdown",
   "metadata": {
    "id": "mxK_lETT9hE0"
   },
   "source": [
    "# Model building"
   ]
  },
  {
   "cell_type": "code",
   "execution_count": 10,
   "metadata": {
    "id": "vHBmUf1t9hE1"
   },
   "outputs": [],
   "source": [
    "model = tf.keras.models.Sequential([\n",
    "    tf.keras.layers.Input((21 * 2, )),\n",
    "    tf.keras.layers.Dropout(0.2),\n",
    "    tf.keras.layers.Dense(20, activation='relu'),\n",
    "    tf.keras.layers.Dropout(0.4),\n",
    "    tf.keras.layers.Dense(10, activation='relu'),\n",
    "    tf.keras.layers.Dense(NUM_CLASSES, activation='softmax')\n",
    "])"
   ]
  },
  {
   "cell_type": "code",
   "execution_count": 11,
   "metadata": {
    "colab": {
     "base_uri": "https://localhost:8080/"
    },
    "id": "ypqky9tc9hE1",
    "outputId": "5db082bb-30e3-4110-bf63-a1ee777ecd46"
   },
   "outputs": [
    {
     "name": "stdout",
     "output_type": "stream",
     "text": [
      "Model: \"sequential\"\n",
      "_________________________________________________________________\n",
      " Layer (type)                Output Shape              Param #   \n",
      "=================================================================\n",
      " dropout (Dropout)           (None, 42)                0         \n",
      "                                                                 \n",
      " dense (Dense)               (None, 20)                860       \n",
      "                                                                 \n",
      " dropout_1 (Dropout)         (None, 20)                0         \n",
      "                                                                 \n",
      " dense_1 (Dense)             (None, 10)                210       \n",
      "                                                                 \n",
      " dense_2 (Dense)             (None, 33)                363       \n",
      "                                                                 \n",
      "=================================================================\n",
      "Total params: 1433 (5.60 KB)\n",
      "Trainable params: 1433 (5.60 KB)\n",
      "Non-trainable params: 0 (0.00 Byte)\n",
      "_________________________________________________________________\n"
     ]
    }
   ],
   "source": [
    "model.summary()  # tf.keras.utils.plot_model(model, show_shapes=True)"
   ]
  },
  {
   "cell_type": "code",
   "execution_count": 12,
   "metadata": {
    "id": "MbMjOflQ9hE1"
   },
   "outputs": [],
   "source": [
    "# Model checkpoint callback\n",
    "cp_callback = tf.keras.callbacks.ModelCheckpoint(\n",
    "    model_save_path, verbose=1, save_weights_only=False)\n",
    "# Callback for early stopping if there is no scope for the improvement in the accuracy\n",
    "es_callback = tf.keras.callbacks.EarlyStopping(patience=20, verbose=1)"
   ]
  },
  {
   "cell_type": "code",
   "execution_count": 13,
   "metadata": {
    "id": "c3Dac0M_9hE2"
   },
   "outputs": [],
   "source": [
    "# Model compilation using the ADAM optimizer\n",
    "model.compile(\n",
    "    optimizer='adam',\n",
    "    loss='sparse_categorical_crossentropy',\n",
    "    metrics=['accuracy']\n",
    ")"
   ]
  },
  {
   "cell_type": "markdown",
   "metadata": {
    "id": "7XI0j1Iu9hE2"
   },
   "source": [
    "# Model training"
   ]
  },
  {
   "cell_type": "code",
   "execution_count": 14,
   "metadata": {
    "colab": {
     "base_uri": "https://localhost:8080/"
    },
    "id": "WirBl-JE9hE3",
    "outputId": "71b30ca2-8294-4d9d-8aa2-800d90d399de",
    "scrolled": true
   },
   "outputs": [
    {
     "name": "stdout",
     "output_type": "stream",
     "text": [
      "Epoch 1/1000\n",
      " 1/85 [..............................] - ETA: 15s - loss: 3.4980 - accuracy: 0.0156\n",
      "Epoch 1: saving model to model/keypoint_classifier/keypoint_classifier.hdf5\n",
      "85/85 [==============================] - 0s 2ms/step - loss: 3.4197 - accuracy: 0.0467 - val_loss: 3.2970 - val_accuracy: 0.0307\n",
      "Epoch 2/1000\n",
      " 1/85 [..............................] - ETA: 0s - loss: 3.3118 - accuracy: 0.0781\n",
      "Epoch 2: saving model to model/keypoint_classifier/keypoint_classifier.hdf5\n",
      "85/85 [==============================] - 0s 823us/step - loss: 3.2100 - accuracy: 0.0818 - val_loss: 3.0139 - val_accuracy: 0.1312\n",
      "Epoch 3/1000\n",
      " 1/85 [..............................] - ETA: 0s - loss: 3.0885 - accuracy: 0.1328\n",
      "Epoch 3: saving model to model/keypoint_classifier/keypoint_classifier.hdf5\n",
      "85/85 [==============================] - 0s 826us/step - loss: 2.9723 - accuracy: 0.1372 - val_loss: 2.7635 - val_accuracy: 0.2344\n",
      "Epoch 4/1000\n",
      " 1/85 [..............................] - ETA: 0s - loss: 2.8834 - accuracy: 0.1562"
     ]
    },
    {
     "name": "stderr",
     "output_type": "stream",
     "text": [
      "/Library/Frameworks/Python.framework/Versions/3.8/lib/python3.8/site-packages/keras/src/engine/training.py:3000: UserWarning: You are saving your model as an HDF5 file via `model.save()`. This file format is considered legacy. We recommend using instead the native Keras format, e.g. `model.save('my_model.keras')`.\n",
      "  saving_api.save_model(\n"
     ]
    },
    {
     "name": "stdout",
     "output_type": "stream",
     "text": [
      "\n",
      "Epoch 4: saving model to model/keypoint_classifier/keypoint_classifier.hdf5\n",
      "85/85 [==============================] - 0s 824us/step - loss: 2.7864 - accuracy: 0.1724 - val_loss: 2.5477 - val_accuracy: 0.3211\n",
      "Epoch 5/1000\n",
      " 1/85 [..............................] - ETA: 0s - loss: 2.7503 - accuracy: 0.1484\n",
      "Epoch 5: saving model to model/keypoint_classifier/keypoint_classifier.hdf5\n",
      "85/85 [==============================] - 0s 822us/step - loss: 2.6446 - accuracy: 0.2079 - val_loss: 2.3789 - val_accuracy: 0.3800\n",
      "Epoch 6/1000\n",
      " 1/85 [..............................] - ETA: 0s - loss: 2.5054 - accuracy: 0.2109\n",
      "Epoch 6: saving model to model/keypoint_classifier/keypoint_classifier.hdf5\n",
      "85/85 [==============================] - 0s 805us/step - loss: 2.5267 - accuracy: 0.2314 - val_loss: 2.2489 - val_accuracy: 0.3997\n",
      "Epoch 7/1000\n",
      " 1/85 [..............................] - ETA: 0s - loss: 2.6129 - accuracy: 0.2109\n",
      "Epoch 7: saving model to model/keypoint_classifier/keypoint_classifier.hdf5\n",
      "85/85 [==============================] - 0s 834us/step - loss: 2.4320 - accuracy: 0.2552 - val_loss: 2.1336 - val_accuracy: 0.4121\n",
      "Epoch 8/1000\n",
      "85/85 [==============================] - ETA: 0s - loss: 2.3691 - accuracy: 0.2596\n",
      "Epoch 8: saving model to model/keypoint_classifier/keypoint_classifier.hdf5\n",
      "85/85 [==============================] - 0s 901us/step - loss: 2.3691 - accuracy: 0.2596 - val_loss: 2.0535 - val_accuracy: 0.4528\n",
      "Epoch 9/1000\n",
      "73/85 [========================>.....] - ETA: 0s - loss: 2.3185 - accuracy: 0.2690\n",
      "Epoch 9: saving model to model/keypoint_classifier/keypoint_classifier.hdf5\n",
      "85/85 [==============================] - 0s 1ms/step - loss: 2.3056 - accuracy: 0.2725 - val_loss: 1.9796 - val_accuracy: 0.4246\n",
      "Epoch 10/1000\n",
      "83/85 [============================>.] - ETA: 0s - loss: 2.2496 - accuracy: 0.2863\n",
      "Epoch 10: saving model to model/keypoint_classifier/keypoint_classifier.hdf5\n",
      "85/85 [==============================] - 0s 935us/step - loss: 2.2514 - accuracy: 0.2859 - val_loss: 1.9140 - val_accuracy: 0.4315\n",
      "Epoch 11/1000\n",
      "84/85 [============================>.] - ETA: 0s - loss: 2.2178 - accuracy: 0.3005\n",
      "Epoch 11: saving model to model/keypoint_classifier/keypoint_classifier.hdf5\n",
      "85/85 [==============================] - 0s 912us/step - loss: 2.2185 - accuracy: 0.3006 - val_loss: 1.8584 - val_accuracy: 0.4356\n",
      "Epoch 12/1000\n",
      "84/85 [============================>.] - ETA: 0s - loss: 2.1909 - accuracy: 0.3100\n",
      "Epoch 12: saving model to model/keypoint_classifier/keypoint_classifier.hdf5\n",
      "85/85 [==============================] - 0s 947us/step - loss: 2.1911 - accuracy: 0.3100 - val_loss: 1.8119 - val_accuracy: 0.4523\n",
      "Epoch 13/1000\n",
      "85/85 [==============================] - ETA: 0s - loss: 2.1498 - accuracy: 0.3181\n",
      "Epoch 13: saving model to model/keypoint_classifier/keypoint_classifier.hdf5\n",
      "85/85 [==============================] - 0s 923us/step - loss: 2.1498 - accuracy: 0.3181 - val_loss: 1.7766 - val_accuracy: 0.4570\n",
      "Epoch 14/1000\n",
      "84/85 [============================>.] - ETA: 0s - loss: 2.1255 - accuracy: 0.3211\n",
      "Epoch 14: saving model to model/keypoint_classifier/keypoint_classifier.hdf5\n",
      "85/85 [==============================] - 0s 911us/step - loss: 2.1258 - accuracy: 0.3205 - val_loss: 1.7336 - val_accuracy: 0.4913\n",
      "Epoch 15/1000\n",
      " 1/85 [..............................] - ETA: 0s - loss: 2.1601 - accuracy: 0.3047\n",
      "Epoch 15: saving model to model/keypoint_classifier/keypoint_classifier.hdf5\n",
      "85/85 [==============================] - 0s 892us/step - loss: 2.1142 - accuracy: 0.3306 - val_loss: 1.7033 - val_accuracy: 0.5209\n",
      "Epoch 16/1000\n",
      " 1/85 [..............................] - ETA: 0s - loss: 2.3140 - accuracy: 0.2812\n",
      "Epoch 16: saving model to model/keypoint_classifier/keypoint_classifier.hdf5\n",
      "85/85 [==============================] - 0s 877us/step - loss: 2.0877 - accuracy: 0.3365 - val_loss: 1.6780 - val_accuracy: 0.5298\n",
      "Epoch 17/1000\n",
      " 1/85 [..............................] - ETA: 0s - loss: 1.9236 - accuracy: 0.3906\n",
      "Epoch 17: saving model to model/keypoint_classifier/keypoint_classifier.hdf5\n",
      "85/85 [==============================] - 0s 857us/step - loss: 2.0598 - accuracy: 0.3518 - val_loss: 1.6407 - val_accuracy: 0.5500\n",
      "Epoch 18/1000\n",
      " 1/85 [..............................] - ETA: 0s - loss: 1.9331 - accuracy: 0.3828\n",
      "Epoch 18: saving model to model/keypoint_classifier/keypoint_classifier.hdf5\n",
      "85/85 [==============================] - 0s 848us/step - loss: 2.0561 - accuracy: 0.3478 - val_loss: 1.6286 - val_accuracy: 0.5408\n",
      "Epoch 19/1000\n",
      " 1/85 [..............................] - ETA: 0s - loss: 2.0675 - accuracy: 0.2969\n",
      "Epoch 19: saving model to model/keypoint_classifier/keypoint_classifier.hdf5\n",
      "85/85 [==============================] - 0s 833us/step - loss: 2.0293 - accuracy: 0.3538 - val_loss: 1.5915 - val_accuracy: 0.5743\n",
      "Epoch 20/1000\n",
      " 1/85 [..............................] - ETA: 0s - loss: 2.0811 - accuracy: 0.4141\n",
      "Epoch 20: saving model to model/keypoint_classifier/keypoint_classifier.hdf5\n",
      "85/85 [==============================] - 0s 820us/step - loss: 2.0016 - accuracy: 0.3657 - val_loss: 1.5660 - val_accuracy: 0.5821\n",
      "Epoch 21/1000\n",
      " 1/85 [..............................] - ETA: 0s - loss: 2.0954 - accuracy: 0.3281\n",
      "Epoch 21: saving model to model/keypoint_classifier/keypoint_classifier.hdf5\n",
      "85/85 [==============================] - 0s 815us/step - loss: 1.9932 - accuracy: 0.3664 - val_loss: 1.5472 - val_accuracy: 0.5729\n",
      "Epoch 22/1000\n",
      " 1/85 [..............................] - ETA: 0s - loss: 2.0269 - accuracy: 0.2578\n",
      "Epoch 22: saving model to model/keypoint_classifier/keypoint_classifier.hdf5\n",
      "85/85 [==============================] - 0s 812us/step - loss: 1.9968 - accuracy: 0.3641 - val_loss: 1.5192 - val_accuracy: 0.5945\n",
      "Epoch 23/1000\n",
      " 1/85 [..............................] - ETA: 0s - loss: 1.9803 - accuracy: 0.3672\n",
      "Epoch 23: saving model to model/keypoint_classifier/keypoint_classifier.hdf5\n",
      "85/85 [==============================] - 0s 799us/step - loss: 1.9655 - accuracy: 0.3799 - val_loss: 1.4946 - val_accuracy: 0.5882\n",
      "Epoch 24/1000\n",
      " 1/85 [..............................] - ETA: 0s - loss: 1.9529 - accuracy: 0.3516\n",
      "Epoch 24: saving model to model/keypoint_classifier/keypoint_classifier.hdf5\n",
      "85/85 [==============================] - 0s 800us/step - loss: 1.9556 - accuracy: 0.3794 - val_loss: 1.4688 - val_accuracy: 0.5998\n",
      "Epoch 25/1000\n",
      " 1/85 [..............................] - ETA: 0s - loss: 1.7960 - accuracy: 0.3438\n",
      "Epoch 25: saving model to model/keypoint_classifier/keypoint_classifier.hdf5\n",
      "85/85 [==============================] - 0s 823us/step - loss: 1.9474 - accuracy: 0.3795 - val_loss: 1.4566 - val_accuracy: 0.6103\n",
      "Epoch 26/1000\n",
      " 1/85 [..............................] - ETA: 0s - loss: 1.8795 - accuracy: 0.3906\n",
      "Epoch 26: saving model to model/keypoint_classifier/keypoint_classifier.hdf5\n",
      "85/85 [==============================] - 0s 805us/step - loss: 1.9339 - accuracy: 0.3879 - val_loss: 1.4333 - val_accuracy: 0.5948\n",
      "Epoch 27/1000\n",
      " 1/85 [..............................] - ETA: 0s - loss: 2.0590 - accuracy: 0.3828\n",
      "Epoch 27: saving model to model/keypoint_classifier/keypoint_classifier.hdf5\n",
      "85/85 [==============================] - 0s 866us/step - loss: 1.9065 - accuracy: 0.3889 - val_loss: 1.4092 - val_accuracy: 0.5937\n",
      "Epoch 28/1000\n",
      " 1/85 [..............................] - ETA: 0s - loss: 1.8210 - accuracy: 0.4062\n",
      "Epoch 28: saving model to model/keypoint_classifier/keypoint_classifier.hdf5\n",
      "85/85 [==============================] - 0s 880us/step - loss: 1.8987 - accuracy: 0.3975 - val_loss: 1.3769 - val_accuracy: 0.6194\n",
      "Epoch 29/1000\n",
      " 1/85 [..............................] - ETA: 0s - loss: 1.8552 - accuracy: 0.4062\n",
      "Epoch 29: saving model to model/keypoint_classifier/keypoint_classifier.hdf5\n",
      "85/85 [==============================] - 0s 886us/step - loss: 1.8849 - accuracy: 0.3929 - val_loss: 1.3619 - val_accuracy: 0.6164\n",
      "Epoch 30/1000\n",
      "83/85 [============================>.] - ETA: 0s - loss: 1.8775 - accuracy: 0.3950\n",
      "Epoch 30: saving model to model/keypoint_classifier/keypoint_classifier.hdf5\n",
      "85/85 [==============================] - 0s 916us/step - loss: 1.8786 - accuracy: 0.3941 - val_loss: 1.3508 - val_accuracy: 0.6167\n",
      "Epoch 31/1000\n",
      "65/85 [=====================>........] - ETA: 0s - loss: 1.8606 - accuracy: 0.4019\n",
      "Epoch 31: saving model to model/keypoint_classifier/keypoint_classifier.hdf5\n",
      "85/85 [==============================] - 0s 1ms/step - loss: 1.8668 - accuracy: 0.4002 - val_loss: 1.3331 - val_accuracy: 0.6144\n",
      "Epoch 32/1000\n",
      "85/85 [==============================] - ETA: 0s - loss: 1.8624 - accuracy: 0.4000\n",
      "Epoch 32: saving model to model/keypoint_classifier/keypoint_classifier.hdf5\n",
      "85/85 [==============================] - 0s 894us/step - loss: 1.8624 - accuracy: 0.4000 - val_loss: 1.3187 - val_accuracy: 0.6358\n",
      "Epoch 33/1000\n",
      " 1/85 [..............................] - ETA: 0s - loss: 1.6964 - accuracy: 0.4609\n",
      "Epoch 33: saving model to model/keypoint_classifier/keypoint_classifier.hdf5\n",
      "85/85 [==============================] - 0s 857us/step - loss: 1.8467 - accuracy: 0.4046 - val_loss: 1.3033 - val_accuracy: 0.6396\n",
      "Epoch 34/1000\n",
      " 1/85 [..............................] - ETA: 0s - loss: 2.0099 - accuracy: 0.3672\n",
      "Epoch 34: saving model to model/keypoint_classifier/keypoint_classifier.hdf5\n",
      "85/85 [==============================] - 0s 860us/step - loss: 1.8308 - accuracy: 0.4112 - val_loss: 1.2908 - val_accuracy: 0.6485\n",
      "Epoch 35/1000\n",
      " 1/85 [..............................] - ETA: 0s - loss: 1.8474 - accuracy: 0.4062\n",
      "Epoch 35: saving model to model/keypoint_classifier/keypoint_classifier.hdf5\n",
      "85/85 [==============================] - 0s 851us/step - loss: 1.8265 - accuracy: 0.4185 - val_loss: 1.2784 - val_accuracy: 0.6618\n",
      "Epoch 36/1000\n",
      " 1/85 [..............................] - ETA: 0s - loss: 1.7695 - accuracy: 0.4141\n",
      "Epoch 36: saving model to model/keypoint_classifier/keypoint_classifier.hdf5\n",
      "85/85 [==============================] - 0s 838us/step - loss: 1.8241 - accuracy: 0.4157 - val_loss: 1.2666 - val_accuracy: 0.6532\n",
      "Epoch 37/1000\n",
      " 1/85 [..............................] - ETA: 0s - loss: 1.7589 - accuracy: 0.4141\n",
      "Epoch 37: saving model to model/keypoint_classifier/keypoint_classifier.hdf5\n",
      "85/85 [==============================] - 0s 822us/step - loss: 1.8286 - accuracy: 0.4212 - val_loss: 1.2584 - val_accuracy: 0.6742\n",
      "Epoch 38/1000\n",
      " 1/85 [..............................] - ETA: 0s - loss: 1.7272 - accuracy: 0.3984\n",
      "Epoch 38: saving model to model/keypoint_classifier/keypoint_classifier.hdf5\n",
      "85/85 [==============================] - 0s 848us/step - loss: 1.8232 - accuracy: 0.4146 - val_loss: 1.2532 - val_accuracy: 0.6654\n",
      "Epoch 39/1000\n",
      " 1/85 [..............................] - ETA: 0s - loss: 1.7281 - accuracy: 0.4297\n",
      "Epoch 39: saving model to model/keypoint_classifier/keypoint_classifier.hdf5\n",
      "85/85 [==============================] - 0s 896us/step - loss: 1.8155 - accuracy: 0.4129 - val_loss: 1.2480 - val_accuracy: 0.6308\n",
      "Epoch 40/1000\n",
      " 1/85 [..............................] - ETA: 0s - loss: 1.7770 - accuracy: 0.4297\n",
      "Epoch 40: saving model to model/keypoint_classifier/keypoint_classifier.hdf5\n",
      "85/85 [==============================] - 0s 878us/step - loss: 1.7991 - accuracy: 0.4272 - val_loss: 1.2282 - val_accuracy: 0.6571\n",
      "Epoch 41/1000\n",
      " 1/85 [..............................] - ETA: 0s - loss: 1.5685 - accuracy: 0.4609\n",
      "Epoch 41: saving model to model/keypoint_classifier/keypoint_classifier.hdf5\n",
      "85/85 [==============================] - 0s 874us/step - loss: 1.7878 - accuracy: 0.4288 - val_loss: 1.2378 - val_accuracy: 0.6554\n",
      "Epoch 42/1000\n",
      " 1/85 [..............................] - ETA: 0s - loss: 1.8249 - accuracy: 0.3984\n",
      "Epoch 42: saving model to model/keypoint_classifier/keypoint_classifier.hdf5\n",
      "85/85 [==============================] - 0s 863us/step - loss: 1.7888 - accuracy: 0.4217 - val_loss: 1.2210 - val_accuracy: 0.6452\n",
      "Epoch 43/1000\n",
      " 1/85 [..............................] - ETA: 0s - loss: 1.8480 - accuracy: 0.3906\n",
      "Epoch 43: saving model to model/keypoint_classifier/keypoint_classifier.hdf5\n",
      "85/85 [==============================] - 0s 895us/step - loss: 1.7761 - accuracy: 0.4287 - val_loss: 1.2046 - val_accuracy: 0.6778\n",
      "Epoch 44/1000\n",
      " 1/85 [..............................] - ETA: 0s - loss: 1.7898 - accuracy: 0.4609\n",
      "Epoch 44: saving model to model/keypoint_classifier/keypoint_classifier.hdf5\n",
      "85/85 [==============================] - 0s 860us/step - loss: 1.7943 - accuracy: 0.4268 - val_loss: 1.2036 - val_accuracy: 0.6753\n",
      "Epoch 45/1000\n",
      " 1/85 [..............................] - ETA: 0s - loss: 1.9228 - accuracy: 0.4062\n",
      "Epoch 45: saving model to model/keypoint_classifier/keypoint_classifier.hdf5\n",
      "85/85 [==============================] - 0s 854us/step - loss: 1.7776 - accuracy: 0.4325 - val_loss: 1.1956 - val_accuracy: 0.6778\n",
      "Epoch 46/1000\n",
      " 1/85 [..............................] - ETA: 0s - loss: 1.8761 - accuracy: 0.3984\n",
      "Epoch 46: saving model to model/keypoint_classifier/keypoint_classifier.hdf5\n",
      "85/85 [==============================] - 0s 849us/step - loss: 1.7626 - accuracy: 0.4353 - val_loss: 1.1935 - val_accuracy: 0.6496\n",
      "Epoch 47/1000\n",
      " 1/85 [..............................] - ETA: 0s - loss: 1.6497 - accuracy: 0.4844\n",
      "Epoch 47: saving model to model/keypoint_classifier/keypoint_classifier.hdf5\n",
      "85/85 [==============================] - 0s 853us/step - loss: 1.7510 - accuracy: 0.4351 - val_loss: 1.1779 - val_accuracy: 0.6776\n",
      "Epoch 48/1000\n",
      " 1/85 [..............................] - ETA: 0s - loss: 1.8699 - accuracy: 0.3750\n",
      "Epoch 48: saving model to model/keypoint_classifier/keypoint_classifier.hdf5\n",
      "85/85 [==============================] - 0s 837us/step - loss: 1.7584 - accuracy: 0.4310 - val_loss: 1.1704 - val_accuracy: 0.6836\n",
      "Epoch 49/1000\n",
      " 1/85 [..............................] - ETA: 0s - loss: 1.8420 - accuracy: 0.4141\n",
      "Epoch 49: saving model to model/keypoint_classifier/keypoint_classifier.hdf5\n",
      "85/85 [==============================] - 0s 829us/step - loss: 1.7440 - accuracy: 0.4336 - val_loss: 1.1722 - val_accuracy: 0.6734\n",
      "Epoch 50/1000\n",
      " 1/85 [..............................] - ETA: 0s - loss: 1.6267 - accuracy: 0.5234\n",
      "Epoch 50: saving model to model/keypoint_classifier/keypoint_classifier.hdf5\n",
      "85/85 [==============================] - 0s 815us/step - loss: 1.7459 - accuracy: 0.4396 - val_loss: 1.1561 - val_accuracy: 0.6878\n",
      "Epoch 51/1000\n",
      " 1/85 [..............................] - ETA: 0s - loss: 1.9714 - accuracy: 0.4219\n",
      "Epoch 51: saving model to model/keypoint_classifier/keypoint_classifier.hdf5\n",
      "85/85 [==============================] - 0s 865us/step - loss: 1.7664 - accuracy: 0.4286 - val_loss: 1.1681 - val_accuracy: 0.6756\n",
      "Epoch 52/1000\n",
      " 1/85 [..............................] - ETA: 0s - loss: 1.5633 - accuracy: 0.5156\n",
      "Epoch 52: saving model to model/keypoint_classifier/keypoint_classifier.hdf5\n",
      "85/85 [==============================] - 0s 856us/step - loss: 1.7390 - accuracy: 0.4455 - val_loss: 1.1506 - val_accuracy: 0.7243\n",
      "Epoch 53/1000\n",
      " 1/85 [..............................] - ETA: 0s - loss: 1.6025 - accuracy: 0.4141\n",
      "Epoch 53: saving model to model/keypoint_classifier/keypoint_classifier.hdf5\n",
      "85/85 [==============================] - 0s 865us/step - loss: 1.7515 - accuracy: 0.4398 - val_loss: 1.1547 - val_accuracy: 0.6986\n",
      "Epoch 54/1000\n",
      " 1/85 [..............................] - ETA: 0s - loss: 1.6803 - accuracy: 0.4531\n",
      "Epoch 54: saving model to model/keypoint_classifier/keypoint_classifier.hdf5\n",
      "85/85 [==============================] - 0s 844us/step - loss: 1.7458 - accuracy: 0.4384 - val_loss: 1.1476 - val_accuracy: 0.6906\n",
      "Epoch 55/1000\n",
      " 1/85 [..............................] - ETA: 0s - loss: 1.7483 - accuracy: 0.3906\n",
      "Epoch 55: saving model to model/keypoint_classifier/keypoint_classifier.hdf5\n",
      "85/85 [==============================] - 0s 822us/step - loss: 1.7379 - accuracy: 0.4444 - val_loss: 1.1417 - val_accuracy: 0.6914\n",
      "Epoch 56/1000\n",
      " 1/85 [..............................] - ETA: 0s - loss: 1.7328 - accuracy: 0.3984\n",
      "Epoch 56: saving model to model/keypoint_classifier/keypoint_classifier.hdf5\n",
      "85/85 [==============================] - 0s 817us/step - loss: 1.7396 - accuracy: 0.4382 - val_loss: 1.1380 - val_accuracy: 0.6861\n",
      "Epoch 57/1000\n",
      " 1/85 [..............................] - ETA: 0s - loss: 1.6867 - accuracy: 0.5000\n",
      "Epoch 57: saving model to model/keypoint_classifier/keypoint_classifier.hdf5\n",
      "85/85 [==============================] - 0s 817us/step - loss: 1.7443 - accuracy: 0.4444 - val_loss: 1.1397 - val_accuracy: 0.7216\n",
      "Epoch 58/1000\n",
      " 1/85 [..............................] - ETA: 0s - loss: 1.5241 - accuracy: 0.5234\n",
      "Epoch 58: saving model to model/keypoint_classifier/keypoint_classifier.hdf5\n",
      "85/85 [==============================] - 0s 806us/step - loss: 1.7369 - accuracy: 0.4496 - val_loss: 1.1276 - val_accuracy: 0.7260\n",
      "Epoch 59/1000\n",
      " 1/85 [..............................] - ETA: 0s - loss: 1.7212 - accuracy: 0.4375\n",
      "Epoch 59: saving model to model/keypoint_classifier/keypoint_classifier.hdf5\n",
      "85/85 [==============================] - 0s 815us/step - loss: 1.7325 - accuracy: 0.4444 - val_loss: 1.1238 - val_accuracy: 0.7050\n",
      "Epoch 60/1000\n",
      " 1/85 [..............................] - ETA: 0s - loss: 1.7463 - accuracy: 0.4531\n",
      "Epoch 60: saving model to model/keypoint_classifier/keypoint_classifier.hdf5\n",
      "85/85 [==============================] - 0s 813us/step - loss: 1.7254 - accuracy: 0.4467 - val_loss: 1.1180 - val_accuracy: 0.6958\n",
      "Epoch 61/1000\n",
      " 1/85 [..............................] - ETA: 0s - loss: 1.8190 - accuracy: 0.4453\n",
      "Epoch 61: saving model to model/keypoint_classifier/keypoint_classifier.hdf5\n",
      "85/85 [==============================] - 0s 808us/step - loss: 1.7237 - accuracy: 0.4419 - val_loss: 1.1204 - val_accuracy: 0.7144\n",
      "Epoch 62/1000\n",
      "70/85 [=======================>......] - ETA: 0s - loss: 1.7171 - accuracy: 0.4556\n",
      "Epoch 62: saving model to model/keypoint_classifier/keypoint_classifier.hdf5\n",
      "85/85 [==============================] - 0s 981us/step - loss: 1.7146 - accuracy: 0.4556 - val_loss: 1.1114 - val_accuracy: 0.7180\n",
      "Epoch 63/1000\n",
      " 1/85 [..............................] - ETA: 0s - loss: 1.5491 - accuracy: 0.5156\n",
      "Epoch 63: saving model to model/keypoint_classifier/keypoint_classifier.hdf5\n",
      "85/85 [==============================] - 0s 815us/step - loss: 1.7032 - accuracy: 0.4567 - val_loss: 1.0988 - val_accuracy: 0.7177\n",
      "Epoch 64/1000\n",
      " 1/85 [..............................] - ETA: 0s - loss: 1.8464 - accuracy: 0.4453\n",
      "Epoch 64: saving model to model/keypoint_classifier/keypoint_classifier.hdf5\n",
      "85/85 [==============================] - 0s 818us/step - loss: 1.7109 - accuracy: 0.4486 - val_loss: 1.1053 - val_accuracy: 0.7249\n",
      "Epoch 65/1000\n",
      " 1/85 [..............................] - ETA: 0s - loss: 1.6862 - accuracy: 0.3828\n",
      "Epoch 65: saving model to model/keypoint_classifier/keypoint_classifier.hdf5\n",
      "85/85 [==============================] - 0s 824us/step - loss: 1.7008 - accuracy: 0.4551 - val_loss: 1.0999 - val_accuracy: 0.7174\n",
      "Epoch 66/1000\n",
      " 1/85 [..............................] - ETA: 0s - loss: 1.5527 - accuracy: 0.4844\n",
      "Epoch 66: saving model to model/keypoint_classifier/keypoint_classifier.hdf5\n",
      "85/85 [==============================] - 0s 804us/step - loss: 1.7016 - accuracy: 0.4553 - val_loss: 1.1047 - val_accuracy: 0.7216\n",
      "Epoch 67/1000\n",
      " 1/85 [..............................] - ETA: 0s - loss: 1.5854 - accuracy: 0.5703\n",
      "Epoch 67: saving model to model/keypoint_classifier/keypoint_classifier.hdf5\n",
      "85/85 [==============================] - 0s 806us/step - loss: 1.7059 - accuracy: 0.4484 - val_loss: 1.0896 - val_accuracy: 0.7216\n",
      "Epoch 68/1000\n",
      " 1/85 [..............................] - ETA: 0s - loss: 1.6323 - accuracy: 0.4844\n",
      "Epoch 68: saving model to model/keypoint_classifier/keypoint_classifier.hdf5\n",
      "85/85 [==============================] - 0s 815us/step - loss: 1.6834 - accuracy: 0.4561 - val_loss: 1.0778 - val_accuracy: 0.7271\n",
      "Epoch 69/1000\n",
      " 1/85 [..............................] - ETA: 0s - loss: 1.7460 - accuracy: 0.4609\n",
      "Epoch 69: saving model to model/keypoint_classifier/keypoint_classifier.hdf5\n",
      "85/85 [==============================] - 0s 816us/step - loss: 1.7033 - accuracy: 0.4556 - val_loss: 1.0962 - val_accuracy: 0.7033\n",
      "Epoch 70/1000\n",
      " 1/85 [..............................] - ETA: 0s - loss: 1.8019 - accuracy: 0.3906\n",
      "Epoch 70: saving model to model/keypoint_classifier/keypoint_classifier.hdf5\n",
      "85/85 [==============================] - 0s 815us/step - loss: 1.6975 - accuracy: 0.4551 - val_loss: 1.0911 - val_accuracy: 0.7196\n",
      "Epoch 71/1000\n",
      " 1/85 [..............................] - ETA: 0s - loss: 1.5309 - accuracy: 0.5234\n",
      "Epoch 71: saving model to model/keypoint_classifier/keypoint_classifier.hdf5\n",
      "85/85 [==============================] - 0s 827us/step - loss: 1.6903 - accuracy: 0.4551 - val_loss: 1.0845 - val_accuracy: 0.7160\n",
      "Epoch 72/1000\n",
      " 1/85 [..............................] - ETA: 0s - loss: 1.8422 - accuracy: 0.4453\n",
      "Epoch 72: saving model to model/keypoint_classifier/keypoint_classifier.hdf5\n",
      "85/85 [==============================] - 0s 821us/step - loss: 1.7047 - accuracy: 0.4562 - val_loss: 1.0828 - val_accuracy: 0.7086\n",
      "Epoch 73/1000\n",
      " 1/85 [..............................] - ETA: 0s - loss: 1.9146 - accuracy: 0.3438\n",
      "Epoch 73: saving model to model/keypoint_classifier/keypoint_classifier.hdf5\n",
      "85/85 [==============================] - 0s 809us/step - loss: 1.6749 - accuracy: 0.4668 - val_loss: 1.0760 - val_accuracy: 0.7163\n",
      "Epoch 74/1000\n",
      " 1/85 [..............................] - ETA: 0s - loss: 1.6870 - accuracy: 0.4531\n",
      "Epoch 74: saving model to model/keypoint_classifier/keypoint_classifier.hdf5\n",
      "85/85 [==============================] - 0s 821us/step - loss: 1.6961 - accuracy: 0.4596 - val_loss: 1.0683 - val_accuracy: 0.7221\n",
      "Epoch 75/1000\n",
      " 1/85 [..............................] - ETA: 0s - loss: 2.0249 - accuracy: 0.4531\n",
      "Epoch 75: saving model to model/keypoint_classifier/keypoint_classifier.hdf5\n",
      "85/85 [==============================] - 0s 812us/step - loss: 1.6688 - accuracy: 0.4674 - val_loss: 1.0606 - val_accuracy: 0.7332\n",
      "Epoch 76/1000\n",
      " 1/85 [..............................] - ETA: 0s - loss: 1.6280 - accuracy: 0.5234\n",
      "Epoch 76: saving model to model/keypoint_classifier/keypoint_classifier.hdf5\n",
      "85/85 [==============================] - 0s 821us/step - loss: 1.6819 - accuracy: 0.4576 - val_loss: 1.0663 - val_accuracy: 0.7290\n",
      "Epoch 77/1000\n",
      " 1/85 [..............................] - ETA: 0s - loss: 1.7864 - accuracy: 0.4062\n",
      "Epoch 77: saving model to model/keypoint_classifier/keypoint_classifier.hdf5\n",
      "85/85 [==============================] - 0s 805us/step - loss: 1.6615 - accuracy: 0.4687 - val_loss: 1.0532 - val_accuracy: 0.7407\n",
      "Epoch 78/1000\n",
      " 1/85 [..............................] - ETA: 0s - loss: 1.7664 - accuracy: 0.4688\n",
      "Epoch 78: saving model to model/keypoint_classifier/keypoint_classifier.hdf5\n",
      "85/85 [==============================] - 0s 811us/step - loss: 1.6628 - accuracy: 0.4688 - val_loss: 1.0572 - val_accuracy: 0.7288\n",
      "Epoch 79/1000\n",
      " 1/85 [..............................] - ETA: 0s - loss: 1.5211 - accuracy: 0.5078\n",
      "Epoch 79: saving model to model/keypoint_classifier/keypoint_classifier.hdf5\n",
      "85/85 [==============================] - 0s 808us/step - loss: 1.6778 - accuracy: 0.4639 - val_loss: 1.0660 - val_accuracy: 0.7263\n",
      "Epoch 80/1000\n",
      " 1/85 [..............................] - ETA: 0s - loss: 1.6559 - accuracy: 0.4688\n",
      "Epoch 80: saving model to model/keypoint_classifier/keypoint_classifier.hdf5\n",
      "85/85 [==============================] - 0s 818us/step - loss: 1.6701 - accuracy: 0.4633 - val_loss: 1.0597 - val_accuracy: 0.7144\n",
      "Epoch 81/1000\n",
      " 1/85 [..............................] - ETA: 0s - loss: 1.7545 - accuracy: 0.5000\n",
      "Epoch 81: saving model to model/keypoint_classifier/keypoint_classifier.hdf5\n",
      "85/85 [==============================] - 0s 803us/step - loss: 1.6774 - accuracy: 0.4655 - val_loss: 1.0610 - val_accuracy: 0.7271\n",
      "Epoch 82/1000\n",
      " 1/85 [..............................] - ETA: 0s - loss: 1.6760 - accuracy: 0.4688\n",
      "Epoch 82: saving model to model/keypoint_classifier/keypoint_classifier.hdf5\n",
      "85/85 [==============================] - 0s 825us/step - loss: 1.6631 - accuracy: 0.4605 - val_loss: 1.0662 - val_accuracy: 0.7193\n",
      "Epoch 83/1000\n",
      " 1/85 [..............................] - ETA: 0s - loss: 1.6507 - accuracy: 0.4609\n",
      "Epoch 83: saving model to model/keypoint_classifier/keypoint_classifier.hdf5\n",
      "85/85 [==============================] - 0s 812us/step - loss: 1.6613 - accuracy: 0.4670 - val_loss: 1.0473 - val_accuracy: 0.7285\n",
      "Epoch 84/1000\n",
      " 1/85 [..............................] - ETA: 0s - loss: 1.7616 - accuracy: 0.4609\n",
      "Epoch 84: saving model to model/keypoint_classifier/keypoint_classifier.hdf5\n",
      "85/85 [==============================] - 0s 815us/step - loss: 1.6608 - accuracy: 0.4669 - val_loss: 1.0495 - val_accuracy: 0.7412\n",
      "Epoch 85/1000\n",
      " 1/85 [..............................] - ETA: 0s - loss: 1.4504 - accuracy: 0.5000\n",
      "Epoch 85: saving model to model/keypoint_classifier/keypoint_classifier.hdf5\n",
      "85/85 [==============================] - 0s 812us/step - loss: 1.6806 - accuracy: 0.4570 - val_loss: 1.0575 - val_accuracy: 0.7180\n",
      "Epoch 86/1000\n",
      " 1/85 [..............................] - ETA: 0s - loss: 1.6369 - accuracy: 0.5234\n",
      "Epoch 86: saving model to model/keypoint_classifier/keypoint_classifier.hdf5\n",
      "85/85 [==============================] - 0s 804us/step - loss: 1.6656 - accuracy: 0.4687 - val_loss: 1.0534 - val_accuracy: 0.7260\n",
      "Epoch 87/1000\n",
      " 1/85 [..............................] - ETA: 0s - loss: 1.8635 - accuracy: 0.4297\n",
      "Epoch 87: saving model to model/keypoint_classifier/keypoint_classifier.hdf5\n",
      "85/85 [==============================] - 0s 824us/step - loss: 1.6697 - accuracy: 0.4615 - val_loss: 1.0558 - val_accuracy: 0.7246\n",
      "Epoch 88/1000\n",
      " 1/85 [..............................] - ETA: 0s - loss: 1.4713 - accuracy: 0.4688\n",
      "Epoch 88: saving model to model/keypoint_classifier/keypoint_classifier.hdf5\n",
      "85/85 [==============================] - 0s 816us/step - loss: 1.6659 - accuracy: 0.4695 - val_loss: 1.0434 - val_accuracy: 0.7443\n",
      "Epoch 89/1000\n",
      " 1/85 [..............................] - ETA: 0s - loss: 1.5810 - accuracy: 0.4844\n",
      "Epoch 89: saving model to model/keypoint_classifier/keypoint_classifier.hdf5\n",
      "85/85 [==============================] - 0s 816us/step - loss: 1.6785 - accuracy: 0.4668 - val_loss: 1.0413 - val_accuracy: 0.7246\n",
      "Epoch 90/1000\n",
      " 1/85 [..............................] - ETA: 0s - loss: 1.4096 - accuracy: 0.5391\n",
      "Epoch 90: saving model to model/keypoint_classifier/keypoint_classifier.hdf5\n",
      "85/85 [==============================] - 0s 835us/step - loss: 1.6481 - accuracy: 0.4719 - val_loss: 1.0528 - val_accuracy: 0.7243\n",
      "Epoch 91/1000\n",
      "85/85 [==============================] - ETA: 0s - loss: 1.6597 - accuracy: 0.4652\n",
      "Epoch 91: saving model to model/keypoint_classifier/keypoint_classifier.hdf5\n",
      "85/85 [==============================] - 0s 902us/step - loss: 1.6597 - accuracy: 0.4652 - val_loss: 1.0385 - val_accuracy: 0.7418\n",
      "Epoch 92/1000\n",
      " 1/85 [..............................] - ETA: 0s - loss: 1.6239 - accuracy: 0.4688\n",
      "Epoch 92: saving model to model/keypoint_classifier/keypoint_classifier.hdf5\n",
      "85/85 [==============================] - 0s 877us/step - loss: 1.6566 - accuracy: 0.4698 - val_loss: 1.0364 - val_accuracy: 0.7324\n",
      "Epoch 93/1000\n",
      " 1/85 [..............................] - ETA: 0s - loss: 1.6091 - accuracy: 0.4766\n",
      "Epoch 93: saving model to model/keypoint_classifier/keypoint_classifier.hdf5\n",
      "85/85 [==============================] - 0s 865us/step - loss: 1.6604 - accuracy: 0.4694 - val_loss: 1.0440 - val_accuracy: 0.7274\n",
      "Epoch 94/1000\n",
      " 1/85 [..............................] - ETA: 0s - loss: 1.5846 - accuracy: 0.4922\n",
      "Epoch 94: saving model to model/keypoint_classifier/keypoint_classifier.hdf5\n",
      "85/85 [==============================] - 0s 861us/step - loss: 1.6561 - accuracy: 0.4690 - val_loss: 1.0330 - val_accuracy: 0.7376\n",
      "Epoch 95/1000\n",
      " 1/85 [..............................] - ETA: 0s - loss: 1.8266 - accuracy: 0.4688\n",
      "Epoch 95: saving model to model/keypoint_classifier/keypoint_classifier.hdf5\n",
      "85/85 [==============================] - 0s 848us/step - loss: 1.6482 - accuracy: 0.4734 - val_loss: 1.0303 - val_accuracy: 0.7368\n",
      "Epoch 96/1000\n",
      "68/85 [=======================>......] - ETA: 0s - loss: 1.6546 - accuracy: 0.4636\n",
      "Epoch 96: saving model to model/keypoint_classifier/keypoint_classifier.hdf5\n",
      "85/85 [==============================] - 0s 1ms/step - loss: 1.6598 - accuracy: 0.4644 - val_loss: 1.0239 - val_accuracy: 0.7423\n",
      "Epoch 97/1000\n",
      " 1/85 [..............................] - ETA: 0s - loss: 1.4552 - accuracy: 0.5391\n",
      "Epoch 97: saving model to model/keypoint_classifier/keypoint_classifier.hdf5\n",
      "85/85 [==============================] - 0s 870us/step - loss: 1.6245 - accuracy: 0.4809 - val_loss: 1.0322 - val_accuracy: 0.7254\n",
      "Epoch 98/1000\n",
      "85/85 [==============================] - ETA: 0s - loss: 1.6318 - accuracy: 0.4746\n",
      "Epoch 98: saving model to model/keypoint_classifier/keypoint_classifier.hdf5\n",
      "85/85 [==============================] - 0s 900us/step - loss: 1.6318 - accuracy: 0.4746 - val_loss: 1.0291 - val_accuracy: 0.7221\n",
      "Epoch 99/1000\n",
      " 1/85 [..............................] - ETA: 0s - loss: 1.6161 - accuracy: 0.4922\n",
      "Epoch 99: saving model to model/keypoint_classifier/keypoint_classifier.hdf5\n",
      "85/85 [==============================] - 0s 867us/step - loss: 1.6352 - accuracy: 0.4738 - val_loss: 1.0154 - val_accuracy: 0.7537\n",
      "Epoch 100/1000\n",
      " 1/85 [..............................] - ETA: 0s - loss: 1.6920 - accuracy: 0.4297\n",
      "Epoch 100: saving model to model/keypoint_classifier/keypoint_classifier.hdf5\n",
      "85/85 [==============================] - 0s 865us/step - loss: 1.6267 - accuracy: 0.4666 - val_loss: 1.0072 - val_accuracy: 0.7498\n",
      "Epoch 101/1000\n",
      " 1/85 [..............................] - ETA: 0s - loss: 1.4998 - accuracy: 0.5312\n",
      "Epoch 101: saving model to model/keypoint_classifier/keypoint_classifier.hdf5\n",
      "85/85 [==============================] - 0s 870us/step - loss: 1.6343 - accuracy: 0.4770 - val_loss: 1.0104 - val_accuracy: 0.7512\n",
      "Epoch 102/1000\n",
      " 1/85 [..............................] - ETA: 0s - loss: 1.3619 - accuracy: 0.6016\n",
      "Epoch 102: saving model to model/keypoint_classifier/keypoint_classifier.hdf5\n",
      "85/85 [==============================] - 0s 859us/step - loss: 1.6303 - accuracy: 0.4751 - val_loss: 1.0053 - val_accuracy: 0.7465\n",
      "Epoch 103/1000\n",
      " 1/85 [..............................] - ETA: 0s - loss: 1.5099 - accuracy: 0.5312\n",
      "Epoch 103: saving model to model/keypoint_classifier/keypoint_classifier.hdf5\n",
      "85/85 [==============================] - 0s 844us/step - loss: 1.6500 - accuracy: 0.4673 - val_loss: 1.0075 - val_accuracy: 0.7506\n",
      "Epoch 104/1000\n",
      " 1/85 [..............................] - ETA: 0s - loss: 1.5259 - accuracy: 0.5000\n",
      "Epoch 104: saving model to model/keypoint_classifier/keypoint_classifier.hdf5\n",
      "85/85 [==============================] - 0s 846us/step - loss: 1.6196 - accuracy: 0.4800 - val_loss: 1.0112 - val_accuracy: 0.7371\n",
      "Epoch 105/1000\n",
      " 1/85 [..............................] - ETA: 0s - loss: 1.9014 - accuracy: 0.4141\n",
      "Epoch 105: saving model to model/keypoint_classifier/keypoint_classifier.hdf5\n",
      "85/85 [==============================] - 0s 827us/step - loss: 1.6228 - accuracy: 0.4741 - val_loss: 0.9994 - val_accuracy: 0.7260\n",
      "Epoch 106/1000\n",
      " 1/85 [..............................] - ETA: 0s - loss: 1.5925 - accuracy: 0.4688\n",
      "Epoch 106: saving model to model/keypoint_classifier/keypoint_classifier.hdf5\n",
      "85/85 [==============================] - 0s 820us/step - loss: 1.6311 - accuracy: 0.4803 - val_loss: 1.0200 - val_accuracy: 0.7357\n",
      "Epoch 107/1000\n",
      " 1/85 [..............................] - ETA: 0s - loss: 1.7487 - accuracy: 0.4922\n",
      "Epoch 107: saving model to model/keypoint_classifier/keypoint_classifier.hdf5\n",
      "85/85 [==============================] - 0s 813us/step - loss: 1.6242 - accuracy: 0.4773 - val_loss: 1.0062 - val_accuracy: 0.7412\n",
      "Epoch 108/1000\n",
      " 1/85 [..............................] - ETA: 0s - loss: 1.6043 - accuracy: 0.5312\n",
      "Epoch 108: saving model to model/keypoint_classifier/keypoint_classifier.hdf5\n",
      "85/85 [==============================] - 0s 813us/step - loss: 1.6146 - accuracy: 0.4798 - val_loss: 1.0061 - val_accuracy: 0.7362\n",
      "Epoch 109/1000\n",
      " 1/85 [..............................] - ETA: 0s - loss: 1.6429 - accuracy: 0.4844\n",
      "Epoch 109: saving model to model/keypoint_classifier/keypoint_classifier.hdf5\n",
      "85/85 [==============================] - 0s 822us/step - loss: 1.6188 - accuracy: 0.4833 - val_loss: 1.0010 - val_accuracy: 0.7332\n",
      "Epoch 110/1000\n",
      " 1/85 [..............................] - ETA: 0s - loss: 1.6727 - accuracy: 0.3984\n",
      "Epoch 110: saving model to model/keypoint_classifier/keypoint_classifier.hdf5\n",
      "85/85 [==============================] - 0s 806us/step - loss: 1.6128 - accuracy: 0.4781 - val_loss: 0.9979 - val_accuracy: 0.7387\n",
      "Epoch 111/1000\n",
      " 1/85 [..............................] - ETA: 0s - loss: 1.6771 - accuracy: 0.4375\n",
      "Epoch 111: saving model to model/keypoint_classifier/keypoint_classifier.hdf5\n",
      "85/85 [==============================] - 0s 818us/step - loss: 1.6265 - accuracy: 0.4754 - val_loss: 1.0022 - val_accuracy: 0.7404\n",
      "Epoch 112/1000\n",
      " 1/85 [..............................] - ETA: 0s - loss: 1.4442 - accuracy: 0.5391\n",
      "Epoch 112: saving model to model/keypoint_classifier/keypoint_classifier.hdf5\n",
      "85/85 [==============================] - 0s 816us/step - loss: 1.6271 - accuracy: 0.4812 - val_loss: 1.0140 - val_accuracy: 0.7238\n",
      "Epoch 113/1000\n",
      " 1/85 [..............................] - ETA: 0s - loss: 1.7510 - accuracy: 0.4453\n",
      "Epoch 113: saving model to model/keypoint_classifier/keypoint_classifier.hdf5\n",
      "85/85 [==============================] - 0s 802us/step - loss: 1.6096 - accuracy: 0.4833 - val_loss: 1.0007 - val_accuracy: 0.7506\n",
      "Epoch 114/1000\n",
      " 1/85 [..............................] - ETA: 0s - loss: 1.6613 - accuracy: 0.4141\n",
      "Epoch 114: saving model to model/keypoint_classifier/keypoint_classifier.hdf5\n",
      "85/85 [==============================] - 0s 806us/step - loss: 1.6141 - accuracy: 0.4824 - val_loss: 0.9970 - val_accuracy: 0.7528\n",
      "Epoch 115/1000\n",
      " 1/85 [..............................] - ETA: 0s - loss: 1.7126 - accuracy: 0.3906\n",
      "Epoch 115: saving model to model/keypoint_classifier/keypoint_classifier.hdf5\n",
      "85/85 [==============================] - 0s 805us/step - loss: 1.6288 - accuracy: 0.4728 - val_loss: 0.9864 - val_accuracy: 0.7681\n",
      "Epoch 116/1000\n",
      " 1/85 [..............................] - ETA: 0s - loss: 1.4624 - accuracy: 0.5078\n",
      "Epoch 116: saving model to model/keypoint_classifier/keypoint_classifier.hdf5\n",
      "85/85 [==============================] - 0s 826us/step - loss: 1.6053 - accuracy: 0.4823 - val_loss: 1.0002 - val_accuracy: 0.7376\n",
      "Epoch 117/1000\n",
      " 1/85 [..............................] - ETA: 0s - loss: 1.5419 - accuracy: 0.4609\n",
      "Epoch 117: saving model to model/keypoint_classifier/keypoint_classifier.hdf5\n",
      "85/85 [==============================] - 0s 808us/step - loss: 1.6110 - accuracy: 0.4796 - val_loss: 0.9977 - val_accuracy: 0.7401\n",
      "Epoch 118/1000\n",
      " 1/85 [..............................] - ETA: 0s - loss: 1.4666 - accuracy: 0.5000\n",
      "Epoch 118: saving model to model/keypoint_classifier/keypoint_classifier.hdf5\n",
      "85/85 [==============================] - 0s 811us/step - loss: 1.6093 - accuracy: 0.4826 - val_loss: 0.9902 - val_accuracy: 0.7512\n",
      "Epoch 119/1000\n",
      "72/85 [========================>.....] - ETA: 0s - loss: 1.6084 - accuracy: 0.4846\n",
      "Epoch 119: saving model to model/keypoint_classifier/keypoint_classifier.hdf5\n",
      "85/85 [==============================] - 0s 960us/step - loss: 1.5978 - accuracy: 0.4868 - val_loss: 0.9829 - val_accuracy: 0.7501\n",
      "Epoch 120/1000\n",
      " 1/85 [..............................] - ETA: 0s - loss: 1.7228 - accuracy: 0.4375\n",
      "Epoch 120: saving model to model/keypoint_classifier/keypoint_classifier.hdf5\n",
      "85/85 [==============================] - 0s 825us/step - loss: 1.6084 - accuracy: 0.4908 - val_loss: 0.9887 - val_accuracy: 0.7371\n",
      "Epoch 121/1000\n",
      " 1/85 [..............................] - ETA: 0s - loss: 1.6128 - accuracy: 0.4531\n",
      "Epoch 121: saving model to model/keypoint_classifier/keypoint_classifier.hdf5\n",
      "85/85 [==============================] - 0s 825us/step - loss: 1.6073 - accuracy: 0.4809 - val_loss: 0.9878 - val_accuracy: 0.7451\n",
      "Epoch 122/1000\n",
      " 1/85 [..............................] - ETA: 0s - loss: 1.8984 - accuracy: 0.4453\n",
      "Epoch 122: saving model to model/keypoint_classifier/keypoint_classifier.hdf5\n",
      "85/85 [==============================] - 0s 803us/step - loss: 1.6013 - accuracy: 0.4842 - val_loss: 0.9963 - val_accuracy: 0.7382\n",
      "Epoch 123/1000\n",
      " 1/85 [..............................] - ETA: 0s - loss: 1.5479 - accuracy: 0.5547\n",
      "Epoch 123: saving model to model/keypoint_classifier/keypoint_classifier.hdf5\n",
      "85/85 [==============================] - 0s 810us/step - loss: 1.6233 - accuracy: 0.4739 - val_loss: 1.0020 - val_accuracy: 0.7285\n",
      "Epoch 124/1000\n",
      " 1/85 [..............................] - ETA: 0s - loss: 1.6962 - accuracy: 0.5156\n",
      "Epoch 124: saving model to model/keypoint_classifier/keypoint_classifier.hdf5\n",
      "85/85 [==============================] - 0s 812us/step - loss: 1.6102 - accuracy: 0.4799 - val_loss: 0.9961 - val_accuracy: 0.7420\n",
      "Epoch 125/1000\n",
      " 1/85 [..............................] - ETA: 0s - loss: 1.6630 - accuracy: 0.4766\n",
      "Epoch 125: saving model to model/keypoint_classifier/keypoint_classifier.hdf5\n",
      "85/85 [==============================] - 0s 825us/step - loss: 1.5974 - accuracy: 0.4827 - val_loss: 0.9885 - val_accuracy: 0.7440\n",
      "Epoch 126/1000\n",
      " 1/85 [..............................] - ETA: 0s - loss: 1.8916 - accuracy: 0.4531\n",
      "Epoch 126: saving model to model/keypoint_classifier/keypoint_classifier.hdf5\n",
      "85/85 [==============================] - 0s 814us/step - loss: 1.6157 - accuracy: 0.4816 - val_loss: 0.9850 - val_accuracy: 0.7573\n",
      "Epoch 127/1000\n",
      " 1/85 [..............................] - ETA: 0s - loss: 1.5983 - accuracy: 0.4141\n",
      "Epoch 127: saving model to model/keypoint_classifier/keypoint_classifier.hdf5\n",
      "85/85 [==============================] - 0s 804us/step - loss: 1.5979 - accuracy: 0.4829 - val_loss: 0.9854 - val_accuracy: 0.7523\n",
      "Epoch 128/1000\n",
      " 1/85 [..............................] - ETA: 0s - loss: 1.4491 - accuracy: 0.5156\n",
      "Epoch 128: saving model to model/keypoint_classifier/keypoint_classifier.hdf5\n",
      "85/85 [==============================] - 0s 808us/step - loss: 1.5876 - accuracy: 0.4864 - val_loss: 0.9740 - val_accuracy: 0.7609\n",
      "Epoch 129/1000\n",
      " 1/85 [..............................] - ETA: 0s - loss: 1.8542 - accuracy: 0.4844\n",
      "Epoch 129: saving model to model/keypoint_classifier/keypoint_classifier.hdf5\n",
      "85/85 [==============================] - 0s 802us/step - loss: 1.6129 - accuracy: 0.4848 - val_loss: 0.9817 - val_accuracy: 0.7390\n",
      "Epoch 130/1000\n",
      " 1/85 [..............................] - ETA: 0s - loss: 1.6263 - accuracy: 0.4531\n",
      "Epoch 130: saving model to model/keypoint_classifier/keypoint_classifier.hdf5\n",
      "85/85 [==============================] - 0s 807us/step - loss: 1.6053 - accuracy: 0.4863 - val_loss: 0.9860 - val_accuracy: 0.7312\n",
      "Epoch 131/1000\n",
      " 1/85 [..............................] - ETA: 0s - loss: 1.6700 - accuracy: 0.4609\n",
      "Epoch 131: saving model to model/keypoint_classifier/keypoint_classifier.hdf5\n",
      "85/85 [==============================] - 0s 822us/step - loss: 1.5794 - accuracy: 0.4853 - val_loss: 0.9818 - val_accuracy: 0.7365\n",
      "Epoch 132/1000\n",
      " 1/85 [..............................] - ETA: 0s - loss: 1.5198 - accuracy: 0.4922\n",
      "Epoch 132: saving model to model/keypoint_classifier/keypoint_classifier.hdf5\n",
      "85/85 [==============================] - 0s 806us/step - loss: 1.5832 - accuracy: 0.4864 - val_loss: 0.9724 - val_accuracy: 0.7398\n",
      "Epoch 133/1000\n",
      " 1/85 [..............................] - ETA: 0s - loss: 1.8018 - accuracy: 0.4688\n",
      "Epoch 133: saving model to model/keypoint_classifier/keypoint_classifier.hdf5\n",
      "85/85 [==============================] - 0s 819us/step - loss: 1.5915 - accuracy: 0.4916 - val_loss: 0.9829 - val_accuracy: 0.7503\n",
      "Epoch 134/1000\n",
      " 1/85 [..............................] - ETA: 0s - loss: 1.8001 - accuracy: 0.4688\n",
      "Epoch 134: saving model to model/keypoint_classifier/keypoint_classifier.hdf5\n",
      "85/85 [==============================] - 0s 805us/step - loss: 1.6109 - accuracy: 0.4851 - val_loss: 0.9802 - val_accuracy: 0.7387\n",
      "Epoch 135/1000\n",
      " 1/85 [..............................] - ETA: 0s - loss: 1.5301 - accuracy: 0.5391\n",
      "Epoch 135: saving model to model/keypoint_classifier/keypoint_classifier.hdf5\n",
      "85/85 [==============================] - 0s 807us/step - loss: 1.5755 - accuracy: 0.4958 - val_loss: 0.9756 - val_accuracy: 0.7512\n",
      "Epoch 136/1000\n",
      " 1/85 [..............................] - ETA: 0s - loss: 1.5505 - accuracy: 0.4922\n",
      "Epoch 136: saving model to model/keypoint_classifier/keypoint_classifier.hdf5\n",
      "85/85 [==============================] - 0s 800us/step - loss: 1.5970 - accuracy: 0.4879 - val_loss: 0.9717 - val_accuracy: 0.7434\n",
      "Epoch 137/1000\n",
      " 1/85 [..............................] - ETA: 0s - loss: 1.5673 - accuracy: 0.4922\n",
      "Epoch 137: saving model to model/keypoint_classifier/keypoint_classifier.hdf5\n",
      "85/85 [==============================] - 0s 809us/step - loss: 1.5956 - accuracy: 0.4862 - val_loss: 0.9771 - val_accuracy: 0.7443\n",
      "Epoch 138/1000\n",
      " 1/85 [..............................] - ETA: 0s - loss: 1.7267 - accuracy: 0.5000\n",
      "Epoch 138: saving model to model/keypoint_classifier/keypoint_classifier.hdf5\n",
      "85/85 [==============================] - 0s 807us/step - loss: 1.5905 - accuracy: 0.4856 - val_loss: 0.9735 - val_accuracy: 0.7462\n",
      "Epoch 139/1000\n",
      " 1/85 [..............................] - ETA: 0s - loss: 1.7439 - accuracy: 0.4609\n",
      "Epoch 139: saving model to model/keypoint_classifier/keypoint_classifier.hdf5\n",
      "85/85 [==============================] - 0s 820us/step - loss: 1.5821 - accuracy: 0.4852 - val_loss: 0.9680 - val_accuracy: 0.7312\n",
      "Epoch 140/1000\n",
      " 1/85 [..............................] - ETA: 0s - loss: 1.4567 - accuracy: 0.5391\n",
      "Epoch 140: saving model to model/keypoint_classifier/keypoint_classifier.hdf5\n",
      "85/85 [==============================] - 0s 814us/step - loss: 1.6061 - accuracy: 0.4838 - val_loss: 0.9780 - val_accuracy: 0.7498\n",
      "Epoch 141/1000\n",
      " 1/85 [..............................] - ETA: 0s - loss: 1.5779 - accuracy: 0.4844\n",
      "Epoch 141: saving model to model/keypoint_classifier/keypoint_classifier.hdf5\n",
      "85/85 [==============================] - 0s 807us/step - loss: 1.5853 - accuracy: 0.4832 - val_loss: 0.9640 - val_accuracy: 0.7537\n",
      "Epoch 142/1000\n",
      " 1/85 [..............................] - ETA: 0s - loss: 1.7604 - accuracy: 0.4297\n",
      "Epoch 142: saving model to model/keypoint_classifier/keypoint_classifier.hdf5\n",
      "85/85 [==============================] - 0s 817us/step - loss: 1.5886 - accuracy: 0.4908 - val_loss: 0.9736 - val_accuracy: 0.7412\n",
      "Epoch 143/1000\n",
      " 1/85 [..............................] - ETA: 0s - loss: 1.5495 - accuracy: 0.4609\n",
      "Epoch 143: saving model to model/keypoint_classifier/keypoint_classifier.hdf5\n",
      "85/85 [==============================] - 0s 806us/step - loss: 1.5944 - accuracy: 0.4843 - val_loss: 0.9721 - val_accuracy: 0.7445\n",
      "Epoch 144/1000\n",
      " 1/85 [..............................] - ETA: 0s - loss: 1.6364 - accuracy: 0.5391\n",
      "Epoch 144: saving model to model/keypoint_classifier/keypoint_classifier.hdf5\n",
      "85/85 [==============================] - 0s 806us/step - loss: 1.5940 - accuracy: 0.4835 - val_loss: 0.9665 - val_accuracy: 0.7398\n",
      "Epoch 145/1000\n",
      " 1/85 [..............................] - ETA: 0s - loss: 1.6185 - accuracy: 0.4453\n",
      "Epoch 145: saving model to model/keypoint_classifier/keypoint_classifier.hdf5\n",
      "85/85 [==============================] - 0s 808us/step - loss: 1.5732 - accuracy: 0.4953 - val_loss: 0.9632 - val_accuracy: 0.7570\n",
      "Epoch 146/1000\n",
      "69/85 [=======================>......] - ETA: 0s - loss: 1.6066 - accuracy: 0.4847\n",
      "Epoch 146: saving model to model/keypoint_classifier/keypoint_classifier.hdf5\n",
      "85/85 [==============================] - 0s 984us/step - loss: 1.6028 - accuracy: 0.4862 - val_loss: 0.9783 - val_accuracy: 0.7412\n",
      "Epoch 147/1000\n",
      " 1/85 [..............................] - ETA: 0s - loss: 1.4998 - accuracy: 0.5000\n",
      "Epoch 147: saving model to model/keypoint_classifier/keypoint_classifier.hdf5\n",
      "85/85 [==============================] - 0s 825us/step - loss: 1.5777 - accuracy: 0.4956 - val_loss: 0.9651 - val_accuracy: 0.7539\n",
      "Epoch 148/1000\n",
      " 1/85 [..............................] - ETA: 0s - loss: 1.3727 - accuracy: 0.5469\n",
      "Epoch 148: saving model to model/keypoint_classifier/keypoint_classifier.hdf5\n",
      "85/85 [==============================] - 0s 805us/step - loss: 1.5626 - accuracy: 0.5012 - val_loss: 0.9468 - val_accuracy: 0.7586\n",
      "Epoch 149/1000\n",
      " 1/85 [..............................] - ETA: 0s - loss: 1.5515 - accuracy: 0.5000\n",
      "Epoch 149: saving model to model/keypoint_classifier/keypoint_classifier.hdf5\n",
      "85/85 [==============================] - 0s 823us/step - loss: 1.5779 - accuracy: 0.4886 - val_loss: 0.9602 - val_accuracy: 0.7609\n",
      "Epoch 150/1000\n",
      " 1/85 [..............................] - ETA: 0s - loss: 1.5956 - accuracy: 0.5000\n",
      "Epoch 150: saving model to model/keypoint_classifier/keypoint_classifier.hdf5\n",
      "85/85 [==============================] - 0s 816us/step - loss: 1.5754 - accuracy: 0.4943 - val_loss: 0.9540 - val_accuracy: 0.7598\n",
      "Epoch 151/1000\n",
      " 1/85 [..............................] - ETA: 0s - loss: 1.4141 - accuracy: 0.5469\n",
      "Epoch 151: saving model to model/keypoint_classifier/keypoint_classifier.hdf5\n",
      "85/85 [==============================] - 0s 816us/step - loss: 1.5836 - accuracy: 0.4934 - val_loss: 0.9475 - val_accuracy: 0.7622\n",
      "Epoch 152/1000\n",
      " 1/85 [..............................] - ETA: 0s - loss: 1.4976 - accuracy: 0.5000\n",
      "Epoch 152: saving model to model/keypoint_classifier/keypoint_classifier.hdf5\n",
      "85/85 [==============================] - 0s 815us/step - loss: 1.5653 - accuracy: 0.4963 - val_loss: 0.9495 - val_accuracy: 0.7725\n",
      "Epoch 153/1000\n",
      " 1/85 [..............................] - ETA: 0s - loss: 1.7250 - accuracy: 0.4688\n",
      "Epoch 153: saving model to model/keypoint_classifier/keypoint_classifier.hdf5\n",
      "85/85 [==============================] - 0s 811us/step - loss: 1.5800 - accuracy: 0.4951 - val_loss: 0.9659 - val_accuracy: 0.7257\n",
      "Epoch 154/1000\n",
      " 1/85 [..............................] - ETA: 0s - loss: 1.7261 - accuracy: 0.3984\n",
      "Epoch 154: saving model to model/keypoint_classifier/keypoint_classifier.hdf5\n",
      "85/85 [==============================] - 0s 808us/step - loss: 1.5766 - accuracy: 0.4920 - val_loss: 0.9721 - val_accuracy: 0.7318\n",
      "Epoch 155/1000\n",
      " 1/85 [..............................] - ETA: 0s - loss: 1.5779 - accuracy: 0.4531\n",
      "Epoch 155: saving model to model/keypoint_classifier/keypoint_classifier.hdf5\n",
      "85/85 [==============================] - 0s 815us/step - loss: 1.5664 - accuracy: 0.4951 - val_loss: 0.9641 - val_accuracy: 0.7216\n",
      "Epoch 156/1000\n",
      " 1/85 [..............................] - ETA: 0s - loss: 1.5874 - accuracy: 0.4922\n",
      "Epoch 156: saving model to model/keypoint_classifier/keypoint_classifier.hdf5\n",
      "85/85 [==============================] - 0s 811us/step - loss: 1.5638 - accuracy: 0.4934 - val_loss: 0.9545 - val_accuracy: 0.7470\n",
      "Epoch 157/1000\n",
      " 1/85 [..............................] - ETA: 0s - loss: 1.4888 - accuracy: 0.5234\n",
      "Epoch 157: saving model to model/keypoint_classifier/keypoint_classifier.hdf5\n",
      "85/85 [==============================] - 0s 790us/step - loss: 1.5558 - accuracy: 0.5001 - val_loss: 0.9602 - val_accuracy: 0.7365\n",
      "Epoch 158/1000\n",
      " 1/85 [..............................] - ETA: 0s - loss: 1.5507 - accuracy: 0.5234\n",
      "Epoch 158: saving model to model/keypoint_classifier/keypoint_classifier.hdf5\n",
      "85/85 [==============================] - 0s 816us/step - loss: 1.5675 - accuracy: 0.4982 - val_loss: 0.9503 - val_accuracy: 0.7299\n",
      "Epoch 159/1000\n",
      " 1/85 [..............................] - ETA: 0s - loss: 1.5877 - accuracy: 0.4922\n",
      "Epoch 159: saving model to model/keypoint_classifier/keypoint_classifier.hdf5\n",
      "85/85 [==============================] - 0s 808us/step - loss: 1.5609 - accuracy: 0.4982 - val_loss: 0.9512 - val_accuracy: 0.7650\n",
      "Epoch 160/1000\n",
      " 1/85 [..............................] - ETA: 0s - loss: 1.4850 - accuracy: 0.4766\n",
      "Epoch 160: saving model to model/keypoint_classifier/keypoint_classifier.hdf5\n",
      "85/85 [==============================] - 0s 830us/step - loss: 1.5740 - accuracy: 0.4935 - val_loss: 0.9469 - val_accuracy: 0.7407\n",
      "Epoch 161/1000\n",
      " 1/85 [..............................] - ETA: 0s - loss: 1.5806 - accuracy: 0.4453\n",
      "Epoch 161: saving model to model/keypoint_classifier/keypoint_classifier.hdf5\n",
      "85/85 [==============================] - 0s 821us/step - loss: 1.5651 - accuracy: 0.4875 - val_loss: 0.9584 - val_accuracy: 0.7548\n",
      "Epoch 162/1000\n",
      " 1/85 [..............................] - ETA: 0s - loss: 1.5692 - accuracy: 0.5312\n",
      "Epoch 162: saving model to model/keypoint_classifier/keypoint_classifier.hdf5\n",
      "85/85 [==============================] - 0s 856us/step - loss: 1.5655 - accuracy: 0.4965 - val_loss: 0.9552 - val_accuracy: 0.7373\n",
      "Epoch 163/1000\n",
      " 1/85 [..............................] - ETA: 0s - loss: 1.6010 - accuracy: 0.4609\n",
      "Epoch 163: saving model to model/keypoint_classifier/keypoint_classifier.hdf5\n",
      "85/85 [==============================] - 0s 871us/step - loss: 1.5718 - accuracy: 0.4963 - val_loss: 0.9593 - val_accuracy: 0.7368\n",
      "Epoch 164/1000\n",
      "65/85 [=====================>........] - ETA: 0s - loss: 1.5805 - accuracy: 0.4934\n",
      "Epoch 164: saving model to model/keypoint_classifier/keypoint_classifier.hdf5\n",
      "85/85 [==============================] - 0s 1ms/step - loss: 1.5695 - accuracy: 0.4967 - val_loss: 0.9491 - val_accuracy: 0.7357\n",
      "Epoch 165/1000\n",
      " 1/85 [..............................] - ETA: 0s - loss: 1.7225 - accuracy: 0.4609\n",
      "Epoch 165: saving model to model/keypoint_classifier/keypoint_classifier.hdf5\n",
      "85/85 [==============================] - 0s 854us/step - loss: 1.5683 - accuracy: 0.4983 - val_loss: 0.9603 - val_accuracy: 0.7326\n",
      "Epoch 166/1000\n",
      " 1/85 [..............................] - ETA: 0s - loss: 1.5808 - accuracy: 0.4922\n",
      "Epoch 166: saving model to model/keypoint_classifier/keypoint_classifier.hdf5\n",
      "85/85 [==============================] - 0s 880us/step - loss: 1.5549 - accuracy: 0.4972 - val_loss: 0.9427 - val_accuracy: 0.7393\n",
      "Epoch 167/1000\n",
      " 1/85 [..............................] - ETA: 0s - loss: 1.7199 - accuracy: 0.5234\n",
      "Epoch 167: saving model to model/keypoint_classifier/keypoint_classifier.hdf5\n",
      "85/85 [==============================] - 0s 890us/step - loss: 1.5681 - accuracy: 0.4955 - val_loss: 0.9483 - val_accuracy: 0.7609\n",
      "Epoch 168/1000\n",
      " 1/85 [..............................] - ETA: 0s - loss: 1.7060 - accuracy: 0.4766\n",
      "Epoch 168: saving model to model/keypoint_classifier/keypoint_classifier.hdf5\n",
      "85/85 [==============================] - 0s 883us/step - loss: 1.5729 - accuracy: 0.4994 - val_loss: 0.9420 - val_accuracy: 0.7379\n",
      "Epoch 169/1000\n",
      " 1/85 [..............................] - ETA: 0s - loss: 1.6358 - accuracy: 0.4766\n",
      "Epoch 169: saving model to model/keypoint_classifier/keypoint_classifier.hdf5\n",
      "85/85 [==============================] - 0s 884us/step - loss: 1.5667 - accuracy: 0.4936 - val_loss: 0.9487 - val_accuracy: 0.7440\n",
      "Epoch 170/1000\n",
      " 1/85 [..............................] - ETA: 0s - loss: 1.5015 - accuracy: 0.5156\n",
      "Epoch 170: saving model to model/keypoint_classifier/keypoint_classifier.hdf5\n",
      "85/85 [==============================] - 0s 861us/step - loss: 1.5619 - accuracy: 0.4987 - val_loss: 0.9468 - val_accuracy: 0.7423\n",
      "Epoch 171/1000\n",
      " 1/85 [..............................] - ETA: 0s - loss: 1.4176 - accuracy: 0.5938\n",
      "Epoch 171: saving model to model/keypoint_classifier/keypoint_classifier.hdf5\n",
      "85/85 [==============================] - 0s 849us/step - loss: 1.5735 - accuracy: 0.4962 - val_loss: 0.9375 - val_accuracy: 0.7459\n",
      "Epoch 172/1000\n",
      " 1/85 [..............................] - ETA: 0s - loss: 1.4609 - accuracy: 0.5000\n",
      "Epoch 172: saving model to model/keypoint_classifier/keypoint_classifier.hdf5\n",
      "85/85 [==============================] - 0s 854us/step - loss: 1.5532 - accuracy: 0.4983 - val_loss: 0.9429 - val_accuracy: 0.7470\n",
      "Epoch 173/1000\n",
      " 1/85 [..............................] - ETA: 0s - loss: 1.3731 - accuracy: 0.5703\n",
      "Epoch 173: saving model to model/keypoint_classifier/keypoint_classifier.hdf5\n",
      "85/85 [==============================] - 0s 838us/step - loss: 1.5642 - accuracy: 0.5023 - val_loss: 0.9480 - val_accuracy: 0.7326\n",
      "Epoch 174/1000\n",
      " 1/85 [..............................] - ETA: 0s - loss: 1.5113 - accuracy: 0.5156\n",
      "Epoch 174: saving model to model/keypoint_classifier/keypoint_classifier.hdf5\n",
      "85/85 [==============================] - 0s 845us/step - loss: 1.5562 - accuracy: 0.4953 - val_loss: 0.9356 - val_accuracy: 0.7393\n",
      "Epoch 175/1000\n",
      " 1/85 [..............................] - ETA: 0s - loss: 1.6086 - accuracy: 0.4609\n",
      "Epoch 175: saving model to model/keypoint_classifier/keypoint_classifier.hdf5\n",
      "85/85 [==============================] - 0s 821us/step - loss: 1.5577 - accuracy: 0.5038 - val_loss: 0.9348 - val_accuracy: 0.7346\n",
      "Epoch 176/1000\n",
      " 1/85 [..............................] - ETA: 0s - loss: 1.5060 - accuracy: 0.4453\n",
      "Epoch 176: saving model to model/keypoint_classifier/keypoint_classifier.hdf5\n",
      "85/85 [==============================] - 0s 809us/step - loss: 1.5460 - accuracy: 0.4941 - val_loss: 0.9427 - val_accuracy: 0.7467\n",
      "Epoch 177/1000\n",
      " 1/85 [..............................] - ETA: 0s - loss: 1.6004 - accuracy: 0.4609\n",
      "Epoch 177: saving model to model/keypoint_classifier/keypoint_classifier.hdf5\n",
      "85/85 [==============================] - 0s 812us/step - loss: 1.5477 - accuracy: 0.5026 - val_loss: 0.9345 - val_accuracy: 0.7515\n",
      "Epoch 178/1000\n",
      " 1/85 [..............................] - ETA: 0s - loss: 1.6019 - accuracy: 0.4766\n",
      "Epoch 178: saving model to model/keypoint_classifier/keypoint_classifier.hdf5\n",
      "85/85 [==============================] - 0s 820us/step - loss: 1.5634 - accuracy: 0.4946 - val_loss: 0.9330 - val_accuracy: 0.7501\n",
      "Epoch 179/1000\n",
      " 1/85 [..............................] - ETA: 0s - loss: 1.5682 - accuracy: 0.5312\n",
      "Epoch 179: saving model to model/keypoint_classifier/keypoint_classifier.hdf5\n",
      "85/85 [==============================] - 0s 800us/step - loss: 1.5535 - accuracy: 0.5008 - val_loss: 0.9296 - val_accuracy: 0.7398\n",
      "Epoch 180/1000\n",
      " 1/85 [..............................] - ETA: 0s - loss: 1.3977 - accuracy: 0.5156\n",
      "Epoch 180: saving model to model/keypoint_classifier/keypoint_classifier.hdf5\n",
      "85/85 [==============================] - 0s 812us/step - loss: 1.5413 - accuracy: 0.5088 - val_loss: 0.9363 - val_accuracy: 0.7562\n",
      "Epoch 181/1000\n",
      "70/85 [=======================>......] - ETA: 0s - loss: 1.5536 - accuracy: 0.5083\n",
      "Epoch 181: saving model to model/keypoint_classifier/keypoint_classifier.hdf5\n",
      "85/85 [==============================] - 0s 970us/step - loss: 1.5563 - accuracy: 0.5079 - val_loss: 0.9352 - val_accuracy: 0.7454\n",
      "Epoch 182/1000\n",
      " 1/85 [..............................] - ETA: 0s - loss: 1.6368 - accuracy: 0.5469\n",
      "Epoch 182: saving model to model/keypoint_classifier/keypoint_classifier.hdf5\n",
      "85/85 [==============================] - 0s 824us/step - loss: 1.5500 - accuracy: 0.5028 - val_loss: 0.9228 - val_accuracy: 0.7503\n",
      "Epoch 183/1000\n",
      " 1/85 [..............................] - ETA: 0s - loss: 1.4215 - accuracy: 0.5547\n",
      "Epoch 183: saving model to model/keypoint_classifier/keypoint_classifier.hdf5\n",
      "85/85 [==============================] - 0s 812us/step - loss: 1.5434 - accuracy: 0.5009 - val_loss: 0.9400 - val_accuracy: 0.7393\n",
      "Epoch 184/1000\n",
      " 1/85 [..............................] - ETA: 0s - loss: 1.4250 - accuracy: 0.5078\n",
      "Epoch 184: saving model to model/keypoint_classifier/keypoint_classifier.hdf5\n",
      "85/85 [==============================] - 0s 803us/step - loss: 1.5606 - accuracy: 0.5058 - val_loss: 0.9446 - val_accuracy: 0.7321\n",
      "Epoch 185/1000\n",
      " 1/85 [..............................] - ETA: 0s - loss: 1.3558 - accuracy: 0.5938\n",
      "Epoch 185: saving model to model/keypoint_classifier/keypoint_classifier.hdf5\n",
      "85/85 [==============================] - 0s 808us/step - loss: 1.5440 - accuracy: 0.4964 - val_loss: 0.9373 - val_accuracy: 0.7357\n",
      "Epoch 186/1000\n",
      " 1/85 [..............................] - ETA: 0s - loss: 1.4486 - accuracy: 0.5625\n",
      "Epoch 186: saving model to model/keypoint_classifier/keypoint_classifier.hdf5\n",
      "85/85 [==============================] - 0s 816us/step - loss: 1.5493 - accuracy: 0.5030 - val_loss: 0.9416 - val_accuracy: 0.7312\n",
      "Epoch 187/1000\n",
      " 1/85 [..............................] - ETA: 0s - loss: 1.5747 - accuracy: 0.4922\n",
      "Epoch 187: saving model to model/keypoint_classifier/keypoint_classifier.hdf5\n",
      "85/85 [==============================] - 0s 814us/step - loss: 1.5446 - accuracy: 0.5014 - val_loss: 0.9369 - val_accuracy: 0.7343\n",
      "Epoch 188/1000\n",
      " 1/85 [..............................] - ETA: 0s - loss: 1.3002 - accuracy: 0.5859\n",
      "Epoch 188: saving model to model/keypoint_classifier/keypoint_classifier.hdf5\n",
      "85/85 [==============================] - 0s 866us/step - loss: 1.5497 - accuracy: 0.5063 - val_loss: 0.9331 - val_accuracy: 0.7481\n",
      "Epoch 189/1000\n",
      " 1/85 [..............................] - ETA: 0s - loss: 1.4493 - accuracy: 0.5000\n",
      "Epoch 189: saving model to model/keypoint_classifier/keypoint_classifier.hdf5\n",
      "85/85 [==============================] - 0s 871us/step - loss: 1.5270 - accuracy: 0.5075 - val_loss: 0.9321 - val_accuracy: 0.7404\n",
      "Epoch 190/1000\n",
      " 1/85 [..............................] - ETA: 0s - loss: 1.4414 - accuracy: 0.5469\n",
      "Epoch 190: saving model to model/keypoint_classifier/keypoint_classifier.hdf5\n",
      "85/85 [==============================] - 0s 870us/step - loss: 1.5297 - accuracy: 0.5067 - val_loss: 0.9286 - val_accuracy: 0.7279\n",
      "Epoch 191/1000\n",
      " 1/85 [..............................] - ETA: 0s - loss: 1.7296 - accuracy: 0.4219\n",
      "Epoch 191: saving model to model/keypoint_classifier/keypoint_classifier.hdf5\n",
      "85/85 [==============================] - 0s 847us/step - loss: 1.5431 - accuracy: 0.5094 - val_loss: 0.9232 - val_accuracy: 0.7658\n",
      "Epoch 192/1000\n",
      " 1/85 [..............................] - ETA: 0s - loss: 1.6780 - accuracy: 0.4453\n",
      "Epoch 192: saving model to model/keypoint_classifier/keypoint_classifier.hdf5\n",
      "85/85 [==============================] - 0s 856us/step - loss: 1.5282 - accuracy: 0.5096 - val_loss: 0.9277 - val_accuracy: 0.7365\n",
      "Epoch 193/1000\n",
      " 1/85 [..............................] - ETA: 0s - loss: 1.4631 - accuracy: 0.5391\n",
      "Epoch 193: saving model to model/keypoint_classifier/keypoint_classifier.hdf5\n",
      "85/85 [==============================] - 0s 853us/step - loss: 1.5297 - accuracy: 0.5090 - val_loss: 0.9175 - val_accuracy: 0.7451\n",
      "Epoch 194/1000\n",
      " 1/85 [..............................] - ETA: 0s - loss: 1.4027 - accuracy: 0.5234\n",
      "Epoch 194: saving model to model/keypoint_classifier/keypoint_classifier.hdf5\n",
      "85/85 [==============================] - 0s 843us/step - loss: 1.5340 - accuracy: 0.5040 - val_loss: 0.9265 - val_accuracy: 0.7365\n",
      "Epoch 195/1000\n",
      " 1/85 [..............................] - ETA: 0s - loss: 1.4897 - accuracy: 0.5156\n",
      "Epoch 195: saving model to model/keypoint_classifier/keypoint_classifier.hdf5\n",
      "85/85 [==============================] - 0s 872us/step - loss: 1.5359 - accuracy: 0.4984 - val_loss: 0.9320 - val_accuracy: 0.7227\n",
      "Epoch 196/1000\n",
      "61/85 [====================>.........] - ETA: 0s - loss: 1.5381 - accuracy: 0.5146\n",
      "Epoch 196: saving model to model/keypoint_classifier/keypoint_classifier.hdf5\n",
      "85/85 [==============================] - 0s 1ms/step - loss: 1.5378 - accuracy: 0.5124 - val_loss: 0.9194 - val_accuracy: 0.7343\n",
      "Epoch 197/1000\n",
      " 1/85 [..............................] - ETA: 0s - loss: 1.4093 - accuracy: 0.5469\n",
      "Epoch 197: saving model to model/keypoint_classifier/keypoint_classifier.hdf5\n",
      "85/85 [==============================] - 0s 823us/step - loss: 1.5476 - accuracy: 0.5080 - val_loss: 0.9275 - val_accuracy: 0.7465\n",
      "Epoch 198/1000\n",
      " 1/85 [..............................] - ETA: 0s - loss: 1.5103 - accuracy: 0.5234\n",
      "Epoch 198: saving model to model/keypoint_classifier/keypoint_classifier.hdf5\n",
      "85/85 [==============================] - 0s 815us/step - loss: 1.5358 - accuracy: 0.5054 - val_loss: 0.9029 - val_accuracy: 0.7445\n",
      "Epoch 199/1000\n",
      " 1/85 [..............................] - ETA: 0s - loss: 1.6957 - accuracy: 0.5234\n",
      "Epoch 199: saving model to model/keypoint_classifier/keypoint_classifier.hdf5\n",
      "85/85 [==============================] - 0s 823us/step - loss: 1.5485 - accuracy: 0.5049 - val_loss: 0.9287 - val_accuracy: 0.7484\n",
      "Epoch 200/1000\n",
      " 1/85 [..............................] - ETA: 0s - loss: 1.6439 - accuracy: 0.4688\n",
      "Epoch 200: saving model to model/keypoint_classifier/keypoint_classifier.hdf5\n",
      "85/85 [==============================] - 0s 815us/step - loss: 1.5307 - accuracy: 0.5054 - val_loss: 0.9232 - val_accuracy: 0.7390\n",
      "Epoch 201/1000\n",
      " 1/85 [..............................] - ETA: 0s - loss: 1.5130 - accuracy: 0.4844\n",
      "Epoch 201: saving model to model/keypoint_classifier/keypoint_classifier.hdf5\n",
      "85/85 [==============================] - 0s 812us/step - loss: 1.5385 - accuracy: 0.5046 - val_loss: 0.9352 - val_accuracy: 0.7440\n",
      "Epoch 202/1000\n",
      " 1/85 [..............................] - ETA: 0s - loss: 1.5576 - accuracy: 0.5625\n",
      "Epoch 202: saving model to model/keypoint_classifier/keypoint_classifier.hdf5\n",
      "85/85 [==============================] - 0s 820us/step - loss: 1.5358 - accuracy: 0.5111 - val_loss: 0.9280 - val_accuracy: 0.7556\n",
      "Epoch 203/1000\n",
      " 1/85 [..............................] - ETA: 0s - loss: 1.4709 - accuracy: 0.5391\n",
      "Epoch 203: saving model to model/keypoint_classifier/keypoint_classifier.hdf5\n",
      "85/85 [==============================] - 0s 826us/step - loss: 1.5325 - accuracy: 0.5083 - val_loss: 0.9251 - val_accuracy: 0.7365\n",
      "Epoch 204/1000\n",
      " 1/85 [..............................] - ETA: 0s - loss: 1.3851 - accuracy: 0.5547\n",
      "Epoch 204: saving model to model/keypoint_classifier/keypoint_classifier.hdf5\n",
      "85/85 [==============================] - 0s 808us/step - loss: 1.5280 - accuracy: 0.5070 - val_loss: 0.9250 - val_accuracy: 0.7462\n",
      "Epoch 205/1000\n",
      " 1/85 [..............................] - ETA: 0s - loss: 1.6278 - accuracy: 0.4844\n",
      "Epoch 205: saving model to model/keypoint_classifier/keypoint_classifier.hdf5\n",
      "85/85 [==============================] - 0s 818us/step - loss: 1.5264 - accuracy: 0.5152 - val_loss: 0.9380 - val_accuracy: 0.7415\n",
      "Epoch 206/1000\n",
      " 1/85 [..............................] - ETA: 0s - loss: 1.5161 - accuracy: 0.4375\n",
      "Epoch 206: saving model to model/keypoint_classifier/keypoint_classifier.hdf5\n",
      "85/85 [==============================] - 0s 810us/step - loss: 1.5329 - accuracy: 0.5047 - val_loss: 0.9270 - val_accuracy: 0.7426\n",
      "Epoch 207/1000\n",
      " 1/85 [..............................] - ETA: 0s - loss: 1.6248 - accuracy: 0.4844\n",
      "Epoch 207: saving model to model/keypoint_classifier/keypoint_classifier.hdf5\n",
      "85/85 [==============================] - 0s 809us/step - loss: 1.5257 - accuracy: 0.5100 - val_loss: 0.9180 - val_accuracy: 0.7517\n",
      "Epoch 208/1000\n",
      " 1/85 [..............................] - ETA: 0s - loss: 1.5898 - accuracy: 0.4844\n",
      "Epoch 208: saving model to model/keypoint_classifier/keypoint_classifier.hdf5\n",
      "85/85 [==============================] - 0s 825us/step - loss: 1.5360 - accuracy: 0.5061 - val_loss: 0.9133 - val_accuracy: 0.7506\n",
      "Epoch 209/1000\n",
      " 1/85 [..............................] - ETA: 0s - loss: 1.6844 - accuracy: 0.5156\n",
      "Epoch 209: saving model to model/keypoint_classifier/keypoint_classifier.hdf5\n",
      "85/85 [==============================] - 0s 831us/step - loss: 1.5381 - accuracy: 0.5122 - val_loss: 0.9263 - val_accuracy: 0.7465\n",
      "Epoch 210/1000\n",
      " 1/85 [..............................] - ETA: 0s - loss: 1.5352 - accuracy: 0.4922\n",
      "Epoch 210: saving model to model/keypoint_classifier/keypoint_classifier.hdf5\n",
      "85/85 [==============================] - 0s 818us/step - loss: 1.5399 - accuracy: 0.5102 - val_loss: 0.9224 - val_accuracy: 0.7479\n",
      "Epoch 211/1000\n",
      "66/85 [======================>.......] - ETA: 0s - loss: 1.5282 - accuracy: 0.5141\n",
      "Epoch 211: saving model to model/keypoint_classifier/keypoint_classifier.hdf5\n",
      "85/85 [==============================] - 0s 995us/step - loss: 1.5258 - accuracy: 0.5111 - val_loss: 0.9117 - val_accuracy: 0.7526\n",
      "Epoch 212/1000\n",
      " 1/85 [..............................] - ETA: 0s - loss: 1.7273 - accuracy: 0.4609\n",
      "Epoch 212: saving model to model/keypoint_classifier/keypoint_classifier.hdf5\n",
      "85/85 [==============================] - 0s 828us/step - loss: 1.5289 - accuracy: 0.5042 - val_loss: 0.9207 - val_accuracy: 0.7523\n",
      "Epoch 213/1000\n",
      " 1/85 [..............................] - ETA: 0s - loss: 1.6343 - accuracy: 0.5078\n",
      "Epoch 213: saving model to model/keypoint_classifier/keypoint_classifier.hdf5\n",
      "85/85 [==============================] - 0s 818us/step - loss: 1.5369 - accuracy: 0.5054 - val_loss: 0.9275 - val_accuracy: 0.7434\n",
      "Epoch 214/1000\n",
      " 1/85 [..............................] - ETA: 0s - loss: 1.4112 - accuracy: 0.5625\n",
      "Epoch 214: saving model to model/keypoint_classifier/keypoint_classifier.hdf5\n",
      "85/85 [==============================] - 0s 809us/step - loss: 1.5330 - accuracy: 0.5073 - val_loss: 0.9234 - val_accuracy: 0.7523\n",
      "Epoch 215/1000\n",
      " 1/85 [..............................] - ETA: 0s - loss: 1.4179 - accuracy: 0.5781\n",
      "Epoch 215: saving model to model/keypoint_classifier/keypoint_classifier.hdf5\n",
      "85/85 [==============================] - 0s 821us/step - loss: 1.5183 - accuracy: 0.5183 - val_loss: 0.9130 - val_accuracy: 0.7263\n",
      "Epoch 216/1000\n",
      " 1/85 [..............................] - ETA: 0s - loss: 1.5695 - accuracy: 0.4922\n",
      "Epoch 216: saving model to model/keypoint_classifier/keypoint_classifier.hdf5\n",
      "85/85 [==============================] - 0s 854us/step - loss: 1.5306 - accuracy: 0.5106 - val_loss: 0.9113 - val_accuracy: 0.7650\n",
      "Epoch 217/1000\n",
      " 1/85 [..............................] - ETA: 0s - loss: 1.3328 - accuracy: 0.5234\n",
      "Epoch 217: saving model to model/keypoint_classifier/keypoint_classifier.hdf5\n",
      "85/85 [==============================] - 0s 860us/step - loss: 1.5193 - accuracy: 0.5154 - val_loss: 0.9146 - val_accuracy: 0.7423\n",
      "Epoch 218/1000\n",
      " 1/85 [..............................] - ETA: 0s - loss: 1.7267 - accuracy: 0.4688\n",
      "Epoch 218: saving model to model/keypoint_classifier/keypoint_classifier.hdf5\n",
      "85/85 [==============================] - 0s 878us/step - loss: 1.5346 - accuracy: 0.5120 - val_loss: 0.9042 - val_accuracy: 0.7611\n",
      "Epoch 218: early stopping\n"
     ]
    },
    {
     "data": {
      "text/plain": [
       "<keras.src.callbacks.History at 0x36a12cc40>"
      ]
     },
     "execution_count": 14,
     "metadata": {},
     "output_type": "execute_result"
    }
   ],
   "source": [
    "model.fit(\n",
    "    X_train,\n",
    "    y_train,\n",
    "    epochs=1000,\n",
    "    batch_size=128,\n",
    "    validation_data=(X_test, y_test),\n",
    "    callbacks=[cp_callback, es_callback]\n",
    ")"
   ]
  },
  {
   "cell_type": "code",
   "execution_count": 15,
   "metadata": {
    "colab": {
     "base_uri": "https://localhost:8080/"
    },
    "id": "pxvb2Y299hE3",
    "outputId": "59eb3185-2e37-4b9e-bc9d-ab1b8ac29b7f"
   },
   "outputs": [
    {
     "name": "stdout",
     "output_type": "stream",
     "text": [
      "29/29 [==============================] - 0s 378us/step - loss: 0.9042 - accuracy: 0.7611\n"
     ]
    }
   ],
   "source": [
    "# Model evaluation\n",
    "val_loss, val_acc = model.evaluate(X_test, y_test, batch_size=128)"
   ]
  },
  {
   "cell_type": "code",
   "execution_count": 16,
   "metadata": {
    "id": "RBkmDeUW9hE4"
   },
   "outputs": [],
   "source": [
    "#  Cell used for loading the saved model\n",
    "model = tf.keras.models.load_model(model_save_path)"
   ]
  },
  {
   "cell_type": "code",
   "execution_count": 17,
   "metadata": {
    "colab": {
     "base_uri": "https://localhost:8080/"
    },
    "id": "tFz9Tb0I9hE4",
    "outputId": "1c3b3528-54ae-4ee2-ab04-77429211cbef"
   },
   "outputs": [
    {
     "name": "stdout",
     "output_type": "stream",
     "text": [
      "1/1 [==============================] - 0s 39ms/step\n",
      "[1.04299588e-05 1.12872673e-02 5.68805146e-04 1.43569394e-03\n",
      " 1.60864554e-03 8.30886606e-03 1.12682785e-04 2.01898813e-02\n",
      " 4.94455220e-04 5.56404586e-04 1.66392773e-01 8.71978234e-03\n",
      " 9.65337385e-05 2.49478593e-03 4.17500676e-04 1.76618565e-02\n",
      " 2.55294237e-03 9.95017868e-03 2.23446230e-04 1.22012039e-04\n",
      " 3.21221590e-01 2.42098764e-01 1.45624980e-01 8.31870548e-03\n",
      " 6.71051210e-04 3.16682243e-04 1.42096495e-03 1.48137077e-03\n",
      " 4.70317376e-04 6.93600377e-05 1.61577051e-03 1.12087736e-02\n",
      " 1.22767212e-02]\n",
      "20\n"
     ]
    }
   ],
   "source": [
    "# Inference test\n",
    "predict_result = model.predict(np.array([X_test[0]]))\n",
    "print(np.squeeze(predict_result))\n",
    "print(np.argmax(np.squeeze(predict_result)))"
   ]
  },
  {
   "cell_type": "markdown",
   "metadata": {
    "id": "S3U4yNWx9hE4"
   },
   "source": [
    "# Confusion matrix"
   ]
  },
  {
   "cell_type": "code",
   "execution_count": 19,
   "metadata": {
    "colab": {
     "base_uri": "https://localhost:8080/",
     "height": 582
    },
    "id": "AP1V6SCk9hE5",
    "outputId": "08e41a80-7a4a-4619-8125-ecc371368d19"
   },
   "outputs": [
    {
     "name": "stdout",
     "output_type": "stream",
     "text": [
      "113/113 [==============================] - 0s 592us/step\n"
     ]
    },
    {
     "data": {
      "image/png": "[encoded data removed]",
      "text/plain": [
       "<Figure size 1500x2000 with 2 Axes>"
      ]
     },
     "metadata": {},
     "output_type": "display_data"
    },
    {
     "name": "stdout",
     "output_type": "stream",
     "text": [
      "Classification Report\n",
      "              precision    recall  f1-score   support\n",
      "\n",
      "           0       0.98      0.66      0.79        62\n",
      "           1       0.59      0.94      0.73        78\n",
      "           2       0.96      0.61      0.75        85\n",
      "           3       1.00      0.32      0.49        65\n",
      "           4       0.19      0.12      0.15        49\n",
      "           5       1.00      0.31      0.47        49\n",
      "           6       1.00      0.20      0.33        40\n",
      "           7       0.00      0.00      0.00        33\n",
      "           8       1.00      0.02      0.04        48\n",
      "           9       0.00      0.00      0.00        44\n",
      "          10       0.85      0.93      0.89       130\n",
      "          11       0.78      0.99      0.87       111\n",
      "          12       1.00      0.82      0.90       156\n",
      "          13       0.81      0.97      0.88       120\n",
      "          14       0.80      0.99      0.88       165\n",
      "          15       0.85      0.91      0.88       174\n",
      "          16       0.96      0.92      0.94       139\n",
      "          17       0.91      0.90      0.90        98\n",
      "          18       0.65      1.00      0.78       133\n",
      "          19       0.88      1.00      0.94       104\n",
      "          20       0.55      0.97      0.71       104\n",
      "          21       0.89      0.17      0.28       103\n",
      "          22       1.00      0.97      0.99       141\n",
      "          23       0.48      0.54      0.51       180\n",
      "          24       0.66      0.85      0.75       112\n",
      "          25       0.75      0.95      0.84       138\n",
      "          26       0.78      0.94      0.85       109\n",
      "          27       0.93      0.99      0.96       186\n",
      "          28       0.86      0.16      0.27       151\n",
      "          29       0.74      0.97      0.84       149\n",
      "          30       0.61      0.88      0.72       145\n",
      "          31       0.80      0.11      0.20        71\n",
      "          32       0.61      0.81      0.70       141\n",
      "\n",
      "    accuracy                           0.76      3613\n",
      "   macro avg       0.75      0.66      0.64      3613\n",
      "weighted avg       0.78      0.76      0.72      3613\n",
      "\n"
     ]
    },
    {
     "name": "stderr",
     "output_type": "stream",
     "text": [
      "/Library/Frameworks/Python.framework/Versions/3.8/lib/python3.8/site-packages/sklearn/metrics/_classification.py:1471: UndefinedMetricWarning: Precision and F-score are ill-defined and being set to 0.0 in labels with no predicted samples. Use `zero_division` parameter to control this behavior.\n",
      "  _warn_prf(average, modifier, msg_start, len(result))\n",
      "/Library/Frameworks/Python.framework/Versions/3.8/lib/python3.8/site-packages/sklearn/metrics/_classification.py:1471: UndefinedMetricWarning: Precision and F-score are ill-defined and being set to 0.0 in labels with no predicted samples. Use `zero_division` parameter to control this behavior.\n",
      "  _warn_prf(average, modifier, msg_start, len(result))\n",
      "/Library/Frameworks/Python.framework/Versions/3.8/lib/python3.8/site-packages/sklearn/metrics/_classification.py:1471: UndefinedMetricWarning: Precision and F-score are ill-defined and being set to 0.0 in labels with no predicted samples. Use `zero_division` parameter to control this behavior.\n",
      "  _warn_prf(average, modifier, msg_start, len(result))\n"
     ]
    }
   ],
   "source": [
    "import pandas as pd\n",
    "import seaborn as sns\n",
    "import matplotlib.pyplot as plt\n",
    "from sklearn.metrics import confusion_matrix, classification_report\n",
    "\n",
    "def print_confusion_matrix(y_true, y_pred, report=True):\n",
    "    labels = sorted(list(set(y_true)))\n",
    "    cmx_data = confusion_matrix(y_true, y_pred, labels=labels)\n",
    "    \n",
    "    df_cmx = pd.DataFrame(cmx_data, index=labels, columns=labels)\n",
    " \n",
    "    fig, ax = plt.subplots(figsize=(15, 20))\n",
    "    sns.heatmap(df_cmx, annot=True, fmt='g' ,square=False)\n",
    "    ax.set_ylim(len(set(y_true)), 0)\n",
    "    plt.show()\n",
    "    \n",
    "    if report:\n",
    "        print('Classification Report')\n",
    "        print(classification_report(y_test, y_pred))\n",
    "\n",
    "Y_pred = model.predict(X_test)\n",
    "y_pred = np.argmax(Y_pred, axis=1)\n",
    "\n",
    "print_confusion_matrix(y_test, y_pred)"
   ]
  },
  {
   "cell_type": "markdown",
   "metadata": {
    "id": "FNP6aqzc9hE5"
   },
   "source": [
    "# Convert to model for Tensorflow-Lite"
   ]
  },
  {
   "cell_type": "code",
   "execution_count": 20,
   "metadata": {
    "id": "ODjnYyld9hE6"
   },
   "outputs": [
    {
     "name": "stderr",
     "output_type": "stream",
     "text": [
      "/Library/Frameworks/Python.framework/Versions/3.8/lib/python3.8/site-packages/keras/src/engine/training.py:3000: UserWarning: You are saving your model as an HDF5 file via `model.save()`. This file format is considered legacy. We recommend using instead the native Keras format, e.g. `model.save('my_model.keras')`.\n",
      "  saving_api.save_model(\n"
     ]
    }
   ],
   "source": [
    "model.save(model_save_path, include_optimizer=False)"
   ]
  },
  {
   "cell_type": "code",
   "execution_count": 21,
   "metadata": {
    "colab": {
     "base_uri": "https://localhost:8080/"
    },
    "id": "zRfuK8Y59hE6",
    "outputId": "a4ca585c-b5d5-4244-8291-8674063209bb"
   },
   "outputs": [
    {
     "name": "stdout",
     "output_type": "stream",
     "text": [
      "INFO:tensorflow:Assets written to: /var/folders/wb/k4jb1pf916zfx4_4y75g4ml40000gn/T/tmph555l8jw/assets\n"
     ]
    },
    {
     "name": "stderr",
     "output_type": "stream",
     "text": [
      "INFO:tensorflow:Assets written to: /var/folders/wb/k4jb1pf916zfx4_4y75g4ml40000gn/T/tmph555l8jw/assets\n",
      "2024-04-15 02:33:32.600422: W tensorflow/compiler/mlir/lite/python/tf_tfl_flatbuffer_helpers.cc:364] Ignored output_format.\n",
      "2024-04-15 02:33:32.600446: W tensorflow/compiler/mlir/lite/python/tf_tfl_flatbuffer_helpers.cc:367] Ignored drop_control_dependency.\n"
     ]
    },
    {
     "data": {
      "text/plain": [
       "7820"
      ]
     },
     "execution_count": 21,
     "metadata": {},
     "output_type": "execute_result"
    }
   ],
   "source": [
    "converter = tf.lite.TFLiteConverter.from_keras_model(model)\n",
    "converter.optimizations = [tf.lite.Optimize.DEFAULT]\n",
    "tflite_quantized_model = converter.convert()\n",
    "open(tflite_save_path, 'wb').write(tflite_quantized_model)"
   ]
  },
  {
   "cell_type": "markdown",
   "metadata": {
    "id": "CHBPBXdx9hE6"
   },
   "source": [
    "# Inference test"
   ]
  },
  {
   "cell_type": "code",
   "execution_count": 22,
   "metadata": {
    "id": "mGAzLocO9hE7"
   },
   "outputs": [
    {
     "name": "stderr",
     "output_type": "stream",
     "text": [
      "INFO: Created TensorFlow Lite XNNPACK delegate for CPU.\n"
     ]
    }
   ],
   "source": [
    "interpreter = tf.lite.Interpreter(model_path=tflite_save_path)\n",
    "interpreter.allocate_tensors()"
   ]
  },
  {
   "cell_type": "code",
   "execution_count": 23,
   "metadata": {
    "id": "oQuDK8YS9hE7"
   },
   "outputs": [],
   "source": [
    "input_details = interpreter.get_input_details()\n",
    "output_details = interpreter.get_output_details()"
   ]
  },
  {
   "cell_type": "code",
   "execution_count": 24,
   "metadata": {
    "id": "2_ixAf_l9hE7"
   },
   "outputs": [],
   "source": [
    "interpreter.set_tensor(input_details[0]['index'], np.array([X_test[0]]))"
   ]
  },
  {
   "cell_type": "code",
   "execution_count": 25,
   "metadata": {
    "colab": {
     "base_uri": "https://localhost:8080/"
    },
    "id": "s4FoAnuc9hE7",
    "outputId": "91f18257-8d8b-4ef3-c558-e9b5f94fabbf",
    "scrolled": true
   },
   "outputs": [
    {
     "name": "stdout",
     "output_type": "stream",
     "text": [
      "CPU times: user 230 µs, sys: 215 µs, total: 445 µs\n",
      "Wall time: 304 µs\n"
     ]
    }
   ],
   "source": [
    "%%time\n",
    "# Implementation of the inference \n",
    "interpreter.invoke()\n",
    "tflite_results = interpreter.get_tensor(output_details[0]['index'])"
   ]
  },
  {
   "cell_type": "code",
   "execution_count": 26,
   "metadata": {
    "colab": {
     "base_uri": "https://localhost:8080/"
    },
    "id": "vONjp19J9hE8",
    "outputId": "77205e24-fd00-42c4-f7b6-e06e527c2cba"
   },
   "outputs": [
    {
     "name": "stdout",
     "output_type": "stream",
     "text": [
      "[1.0429949e-05 1.1287268e-02 5.6880509e-04 1.4356937e-03 1.6086455e-03\n",
      " 8.3088661e-03 1.1268277e-04 2.0189876e-02 4.9445516e-04 5.5640453e-04\n",
      " 1.6639276e-01 8.7197805e-03 9.6533731e-05 2.4947857e-03 4.1750065e-04\n",
      " 1.7661855e-02 2.5529424e-03 9.9501777e-03 2.2344620e-04 1.2201203e-04\n",
      " 3.2122156e-01 2.4209876e-01 1.4562501e-01 8.3187055e-03 6.7105086e-04\n",
      " 3.1668192e-04 1.4209641e-03 1.4813701e-03 4.7031688e-04 6.9359965e-05\n",
      " 1.6157704e-03 1.1208773e-02 1.2276722e-02]\n",
      "20\n"
     ]
    }
   ],
   "source": [
    "print(np.squeeze(tflite_results))\n",
    "print(np.argmax(np.squeeze(tflite_results)))"
   ]
  }
 ],
 "metadata": {
  "accelerator": "GPU",
  "colab": {
   "collapsed_sections": [],
   "name": "keypoint_classification_EN.ipynb",
   "provenance": [],
   "toc_visible": true
  },
  "kernelspec": {
   "display_name": "Python 3 (ipykernel)",
   "language": "python",
   "name": "python3"
  },
  "language_info": {
   "codemirror_mode": {
    "name": "ipython",
    "version": 3
   },
   "file_extension": ".py",
   "mimetype": "text/x-python",
   "name": "python",
   "nbconvert_exporter": "python",
   "pygments_lexer": "ipython3",
   "version": "3.8.10"
  }
 },
 "nbformat": 4,
 "nbformat_minor": 4
}
